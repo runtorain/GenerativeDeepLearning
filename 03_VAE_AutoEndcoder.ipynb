{
  "nbformat": 4,
  "nbformat_minor": 0,
  "metadata": {
    "colab": {
      "provenance": [],
      "gpuType": "T4",
      "authorship_tag": "ABX9TyOrUzd7GOahDipRhFZe/axL",
      "include_colab_link": true
    },
    "kernelspec": {
      "name": "python3",
      "display_name": "Python 3"
    },
    "language_info": {
      "name": "python"
    },
    "accelerator": "GPU"
  },
  "cells": [
    {
      "cell_type": "markdown",
      "metadata": {
        "id": "view-in-github",
        "colab_type": "text"
      },
      "source": [
        "<a href=\"https://colab.research.google.com/github/runtorain/GenerativeDeepLearning/blob/main/03_VAE_AutoEndcoder.ipynb\" target=\"_parent\"><img src=\"https://colab.research.google.com/assets/colab-badge.svg\" alt=\"Open In Colab\"/></a>"
      ]
    },
    {
      "cell_type": "code",
      "source": [
        "!pip install torchinfo"
      ],
      "metadata": {
        "colab": {
          "base_uri": "https://localhost:8080/"
        },
        "id": "4Dqs7W0g2rdX",
        "outputId": "b21b3596-bc58-428a-eaa4-1f49451a3b39"
      },
      "execution_count": 1,
      "outputs": [
        {
          "output_type": "stream",
          "name": "stdout",
          "text": [
            "Collecting torchinfo\n",
            "  Downloading torchinfo-1.8.0-py3-none-any.whl.metadata (21 kB)\n",
            "Downloading torchinfo-1.8.0-py3-none-any.whl (23 kB)\n",
            "Installing collected packages: torchinfo\n",
            "Successfully installed torchinfo-1.8.0\n"
          ]
        }
      ]
    },
    {
      "cell_type": "code",
      "source": [
        "import torch\n",
        "import torch.nn as nn\n",
        "import torch.optim as optim\n",
        "from torchvision import datasets, transforms\n",
        "from torch.utils.data import DataLoader\n",
        "import matplotlib.pyplot as plt\n",
        "import numpy as np"
      ],
      "metadata": {
        "id": "sPfTwpFKzRli"
      },
      "execution_count": 2,
      "outputs": []
    },
    {
      "cell_type": "code",
      "source": [
        "# Parameters\n",
        "IMAGE_SIZE = 32\n",
        "CHANNELS = 1\n",
        "BATCH_SIZE = 100\n",
        "EMBEDDING_DIM = 2\n",
        "EPOCHS = 20"
      ],
      "metadata": {
        "id": "AZRXBoBHzd42"
      },
      "execution_count": 3,
      "outputs": []
    },
    {
      "cell_type": "code",
      "source": [
        "# Data Preparation\n",
        "transform = transforms.Compose([\n",
        "    transforms.Pad(2),\n",
        "    transforms.ToTensor(),\n",
        "])"
      ],
      "metadata": {
        "id": "Wzi_ilILzjBf"
      },
      "execution_count": 4,
      "outputs": []
    },
    {
      "cell_type": "code",
      "source": [
        "train_dataset = datasets.FashionMNIST(root=\"./data\", train=True, download=True, transform=transform)\n",
        "test_dataset = datasets.FashionMNIST(root=\"./data\", train=False, download=True, transform=transform)\n",
        "\n",
        "train_loader = DataLoader(train_dataset, batch_size=BATCH_SIZE, shuffle=True)\n",
        "test_loader = DataLoader(test_dataset, batch_size=BATCH_SIZE, shuffle=False)"
      ],
      "metadata": {
        "id": "wakJSB13zpV-",
        "colab": {
          "base_uri": "https://localhost:8080/"
        },
        "outputId": "e5c47da0-39c9-4e94-9527-8b95b87fd5d8"
      },
      "execution_count": 5,
      "outputs": [
        {
          "output_type": "stream",
          "name": "stdout",
          "text": [
            "Downloading http://fashion-mnist.s3-website.eu-central-1.amazonaws.com/train-images-idx3-ubyte.gz\n",
            "Downloading http://fashion-mnist.s3-website.eu-central-1.amazonaws.com/train-images-idx3-ubyte.gz to ./data/FashionMNIST/raw/train-images-idx3-ubyte.gz\n"
          ]
        },
        {
          "output_type": "stream",
          "name": "stderr",
          "text": [
            "100%|██████████| 26.4M/26.4M [00:00<00:00, 113MB/s]\n"
          ]
        },
        {
          "output_type": "stream",
          "name": "stdout",
          "text": [
            "Extracting ./data/FashionMNIST/raw/train-images-idx3-ubyte.gz to ./data/FashionMNIST/raw\n",
            "\n",
            "Downloading http://fashion-mnist.s3-website.eu-central-1.amazonaws.com/train-labels-idx1-ubyte.gz\n",
            "Downloading http://fashion-mnist.s3-website.eu-central-1.amazonaws.com/train-labels-idx1-ubyte.gz to ./data/FashionMNIST/raw/train-labels-idx1-ubyte.gz\n"
          ]
        },
        {
          "output_type": "stream",
          "name": "stderr",
          "text": [
            "100%|██████████| 29.5k/29.5k [00:00<00:00, 5.66MB/s]\n"
          ]
        },
        {
          "output_type": "stream",
          "name": "stdout",
          "text": [
            "Extracting ./data/FashionMNIST/raw/train-labels-idx1-ubyte.gz to ./data/FashionMNIST/raw\n",
            "\n",
            "Downloading http://fashion-mnist.s3-website.eu-central-1.amazonaws.com/t10k-images-idx3-ubyte.gz\n",
            "Downloading http://fashion-mnist.s3-website.eu-central-1.amazonaws.com/t10k-images-idx3-ubyte.gz to ./data/FashionMNIST/raw/t10k-images-idx3-ubyte.gz\n"
          ]
        },
        {
          "output_type": "stream",
          "name": "stderr",
          "text": [
            "100%|██████████| 4.42M/4.42M [00:00<00:00, 62.5MB/s]\n"
          ]
        },
        {
          "output_type": "stream",
          "name": "stdout",
          "text": [
            "Extracting ./data/FashionMNIST/raw/t10k-images-idx3-ubyte.gz to ./data/FashionMNIST/raw\n",
            "\n",
            "Downloading http://fashion-mnist.s3-website.eu-central-1.amazonaws.com/t10k-labels-idx1-ubyte.gz\n",
            "Downloading http://fashion-mnist.s3-website.eu-central-1.amazonaws.com/t10k-labels-idx1-ubyte.gz to ./data/FashionMNIST/raw/t10k-labels-idx1-ubyte.gz\n"
          ]
        },
        {
          "output_type": "stream",
          "name": "stderr",
          "text": [
            "100%|██████████| 5.15k/5.15k [00:00<00:00, 5.67MB/s]\n"
          ]
        },
        {
          "output_type": "stream",
          "name": "stdout",
          "text": [
            "Extracting ./data/FashionMNIST/raw/t10k-labels-idx1-ubyte.gz to ./data/FashionMNIST/raw\n",
            "\n"
          ]
        }
      ]
    },
    {
      "cell_type": "code",
      "source": [
        "print(train_dataset[0])"
      ],
      "metadata": {
        "colab": {
          "base_uri": "https://localhost:8080/"
        },
        "id": "GCF04bA2z9bO",
        "outputId": "3f0a23e7-8ed5-4601-d2ff-59d57e8eed35"
      },
      "execution_count": 6,
      "outputs": [
        {
          "output_type": "stream",
          "name": "stdout",
          "text": [
            "(tensor([[[0., 0., 0.,  ..., 0., 0., 0.],\n",
            "         [0., 0., 0.,  ..., 0., 0., 0.],\n",
            "         [0., 0., 0.,  ..., 0., 0., 0.],\n",
            "         ...,\n",
            "         [0., 0., 0.,  ..., 0., 0., 0.],\n",
            "         [0., 0., 0.,  ..., 0., 0., 0.],\n",
            "         [0., 0., 0.,  ..., 0., 0., 0.]]]), 9)\n"
          ]
        }
      ]
    },
    {
      "cell_type": "code",
      "source": [
        "train_dataset[0][0].shape"
      ],
      "metadata": {
        "colab": {
          "base_uri": "https://localhost:8080/"
        },
        "id": "8P19tBDQ0GGl",
        "outputId": "4035d9be-1a77-44e4-dc79-55f6434d8828"
      },
      "execution_count": 7,
      "outputs": [
        {
          "output_type": "execute_result",
          "data": {
            "text/plain": [
              "torch.Size([1, 32, 32])"
            ]
          },
          "metadata": {},
          "execution_count": 7
        }
      ]
    },
    {
      "cell_type": "code",
      "source": [
        "sample_train_dataset = datasets.FashionMNIST(root=\"./data\", train=True)"
      ],
      "metadata": {
        "id": "pX-M5pq601Kf"
      },
      "execution_count": 8,
      "outputs": []
    },
    {
      "cell_type": "code",
      "source": [
        "sample_train_dataset[0]"
      ],
      "metadata": {
        "colab": {
          "base_uri": "https://localhost:8080/"
        },
        "id": "xdL1n2NE09oG",
        "outputId": "e10ac567-1483-4c1d-87a8-250292c4a321"
      },
      "execution_count": 9,
      "outputs": [
        {
          "output_type": "execute_result",
          "data": {
            "text/plain": [
              "(<PIL.Image.Image image mode=L size=28x28>, 9)"
            ]
          },
          "metadata": {},
          "execution_count": 9
        }
      ]
    },
    {
      "cell_type": "code",
      "source": [
        "sample_train_dataset[0][0]"
      ],
      "metadata": {
        "colab": {
          "base_uri": "https://localhost:8080/",
          "height": 45
        },
        "id": "l4hxwlvL1CgG",
        "outputId": "3e95405d-8fa0-40c1-dd91-9c548de06f0d"
      },
      "execution_count": 10,
      "outputs": [
        {
          "output_type": "execute_result",
          "data": {
            "text/plain": [
              "<PIL.Image.Image image mode=L size=28x28>"
            ],
            "image/png": "[encoded data removed]",
            "image/jpeg": "[encoded data removed]"
          },
          "metadata": {},
          "execution_count": 10
        }
      ]
    },
    {
      "cell_type": "code",
      "source": [
        "from torchvision.transforms import ToTensor\n",
        "\n",
        "# Example PIL image from the dataset\n",
        "image, label = sample_train_dataset[0]\n",
        "\n",
        "# Convert to PyTorch tensor\n",
        "tensor_image = ToTensor()(image)\n",
        "\n",
        "print(tensor_image.shape)  # Output: torch.Size([1, 28, 28])\n",
        "print(tensor_image)"
      ],
      "metadata": {
        "colab": {
          "base_uri": "https://localhost:8080/"
        },
        "id": "VCbLya3s1hCW",
        "outputId": "e2520c14-2eb3-4a29-85cd-d5c2c7a307d4"
      },
      "execution_count": 11,
      "outputs": [
        {
          "output_type": "stream",
          "name": "stdout",
          "text": [
            "torch.Size([1, 28, 28])\n",
            "tensor([[[0.0000, 0.0000, 0.0000, 0.0000, 0.0000, 0.0000, 0.0000, 0.0000,\n",
            "          0.0000, 0.0000, 0.0000, 0.0000, 0.0000, 0.0000, 0.0000, 0.0000,\n",
            "          0.0000, 0.0000, 0.0000, 0.0000, 0.0000, 0.0000, 0.0000, 0.0000,\n",
            "          0.0000, 0.0000, 0.0000, 0.0000],\n",
            "         [0.0000, 0.0000, 0.0000, 0.0000, 0.0000, 0.0000, 0.0000, 0.0000,\n",
            "          0.0000, 0.0000, 0.0000, 0.0000, 0.0000, 0.0000, 0.0000, 0.0000,\n",
            "          0.0000, 0.0000, 0.0000, 0.0000, 0.0000, 0.0000, 0.0000, 0.0000,\n",
            "          0.0000, 0.0000, 0.0000, 0.0000],\n",
            "         [0.0000, 0.0000, 0.0000, 0.0000, 0.0000, 0.0000, 0.0000, 0.0000,\n",
            "          0.0000, 0.0000, 0.0000, 0.0000, 0.0000, 0.0000, 0.0000, 0.0000,\n",
            "          0.0000, 0.0000, 0.0000, 0.0000, 0.0000, 0.0000, 0.0000, 0.0000,\n",
            "          0.0000, 0.0000, 0.0000, 0.0000],\n",
            "         [0.0000, 0.0000, 0.0000, 0.0000, 0.0000, 0.0000, 0.0000, 0.0000,\n",
            "          0.0000, 0.0000, 0.0000, 0.0000, 0.0039, 0.0000, 0.0000, 0.0510,\n",
            "          0.2863, 0.0000, 0.0000, 0.0039, 0.0157, 0.0000, 0.0000, 0.0000,\n",
            "          0.0000, 0.0039, 0.0039, 0.0000],\n",
            "         [0.0000, 0.0000, 0.0000, 0.0000, 0.0000, 0.0000, 0.0000, 0.0000,\n",
            "          0.0000, 0.0000, 0.0000, 0.0000, 0.0118, 0.0000, 0.1412, 0.5333,\n",
            "          0.4980, 0.2431, 0.2118, 0.0000, 0.0000, 0.0000, 0.0039, 0.0118,\n",
            "          0.0157, 0.0000, 0.0000, 0.0118],\n",
            "         [0.0000, 0.0000, 0.0000, 0.0000, 0.0000, 0.0000, 0.0000, 0.0000,\n",
            "          0.0000, 0.0000, 0.0000, 0.0000, 0.0235, 0.0000, 0.4000, 0.8000,\n",
            "          0.6902, 0.5255, 0.5647, 0.4824, 0.0902, 0.0000, 0.0000, 0.0000,\n",
            "          0.0000, 0.0471, 0.0392, 0.0000],\n",
            "         [0.0000, 0.0000, 0.0000, 0.0000, 0.0000, 0.0000, 0.0000, 0.0000,\n",
            "          0.0000, 0.0000, 0.0000, 0.0000, 0.0000, 0.0000, 0.6078, 0.9255,\n",
            "          0.8118, 0.6980, 0.4196, 0.6118, 0.6314, 0.4275, 0.2510, 0.0902,\n",
            "          0.3020, 0.5098, 0.2824, 0.0588],\n",
            "         [0.0000, 0.0000, 0.0000, 0.0000, 0.0000, 0.0000, 0.0000, 0.0000,\n",
            "          0.0000, 0.0000, 0.0000, 0.0039, 0.0000, 0.2706, 0.8118, 0.8745,\n",
            "          0.8549, 0.8471, 0.8471, 0.6392, 0.4980, 0.4745, 0.4784, 0.5725,\n",
            "          0.5529, 0.3451, 0.6745, 0.2588],\n",
            "         [0.0000, 0.0000, 0.0000, 0.0000, 0.0000, 0.0000, 0.0000, 0.0000,\n",
            "          0.0000, 0.0039, 0.0039, 0.0039, 0.0000, 0.7843, 0.9098, 0.9098,\n",
            "          0.9137, 0.8980, 0.8745, 0.8745, 0.8431, 0.8353, 0.6431, 0.4980,\n",
            "          0.4824, 0.7686, 0.8980, 0.0000],\n",
            "         [0.0000, 0.0000, 0.0000, 0.0000, 0.0000, 0.0000, 0.0000, 0.0000,\n",
            "          0.0000, 0.0000, 0.0000, 0.0000, 0.0000, 0.7176, 0.8824, 0.8471,\n",
            "          0.8745, 0.8941, 0.9216, 0.8902, 0.8784, 0.8706, 0.8784, 0.8667,\n",
            "          0.8745, 0.9608, 0.6784, 0.0000],\n",
            "         [0.0000, 0.0000, 0.0000, 0.0000, 0.0000, 0.0000, 0.0000, 0.0000,\n",
            "          0.0000, 0.0000, 0.0000, 0.0000, 0.0000, 0.7569, 0.8941, 0.8549,\n",
            "          0.8353, 0.7765, 0.7059, 0.8314, 0.8235, 0.8275, 0.8353, 0.8745,\n",
            "          0.8627, 0.9529, 0.7922, 0.0000],\n",
            "         [0.0000, 0.0000, 0.0000, 0.0000, 0.0000, 0.0000, 0.0000, 0.0000,\n",
            "          0.0000, 0.0039, 0.0118, 0.0000, 0.0471, 0.8588, 0.8627, 0.8314,\n",
            "          0.8549, 0.7529, 0.6627, 0.8902, 0.8157, 0.8549, 0.8784, 0.8314,\n",
            "          0.8863, 0.7725, 0.8196, 0.2039],\n",
            "         [0.0000, 0.0000, 0.0000, 0.0000, 0.0000, 0.0000, 0.0000, 0.0000,\n",
            "          0.0000, 0.0000, 0.0235, 0.0000, 0.3882, 0.9569, 0.8706, 0.8627,\n",
            "          0.8549, 0.7961, 0.7765, 0.8667, 0.8431, 0.8353, 0.8706, 0.8627,\n",
            "          0.9608, 0.4667, 0.6549, 0.2196],\n",
            "         [0.0000, 0.0000, 0.0000, 0.0000, 0.0000, 0.0000, 0.0000, 0.0000,\n",
            "          0.0000, 0.0157, 0.0000, 0.0000, 0.2157, 0.9255, 0.8941, 0.9020,\n",
            "          0.8941, 0.9412, 0.9098, 0.8353, 0.8549, 0.8745, 0.9176, 0.8510,\n",
            "          0.8510, 0.8196, 0.3608, 0.0000],\n",
            "         [0.0000, 0.0000, 0.0039, 0.0157, 0.0235, 0.0275, 0.0078, 0.0000,\n",
            "          0.0000, 0.0000, 0.0000, 0.0000, 0.9294, 0.8863, 0.8510, 0.8745,\n",
            "          0.8706, 0.8588, 0.8706, 0.8667, 0.8471, 0.8745, 0.8980, 0.8431,\n",
            "          0.8549, 1.0000, 0.3020, 0.0000],\n",
            "         [0.0000, 0.0118, 0.0000, 0.0000, 0.0000, 0.0000, 0.0000, 0.0000,\n",
            "          0.0000, 0.2431, 0.5686, 0.8000, 0.8941, 0.8118, 0.8353, 0.8667,\n",
            "          0.8549, 0.8157, 0.8275, 0.8549, 0.8784, 0.8745, 0.8588, 0.8431,\n",
            "          0.8784, 0.9569, 0.6235, 0.0000],\n",
            "         [0.0000, 0.0000, 0.0000, 0.0000, 0.0706, 0.1725, 0.3216, 0.4196,\n",
            "          0.7412, 0.8941, 0.8627, 0.8706, 0.8510, 0.8863, 0.7843, 0.8039,\n",
            "          0.8275, 0.9020, 0.8784, 0.9176, 0.6902, 0.7373, 0.9804, 0.9725,\n",
            "          0.9137, 0.9333, 0.8431, 0.0000],\n",
            "         [0.0000, 0.2235, 0.7333, 0.8157, 0.8784, 0.8667, 0.8784, 0.8157,\n",
            "          0.8000, 0.8392, 0.8157, 0.8196, 0.7843, 0.6235, 0.9608, 0.7569,\n",
            "          0.8078, 0.8745, 1.0000, 1.0000, 0.8667, 0.9176, 0.8667, 0.8275,\n",
            "          0.8627, 0.9098, 0.9647, 0.0000],\n",
            "         [0.0118, 0.7922, 0.8941, 0.8784, 0.8667, 0.8275, 0.8275, 0.8392,\n",
            "          0.8039, 0.8039, 0.8039, 0.8627, 0.9412, 0.3137, 0.5882, 1.0000,\n",
            "          0.8980, 0.8667, 0.7373, 0.6039, 0.7490, 0.8235, 0.8000, 0.8196,\n",
            "          0.8706, 0.8941, 0.8824, 0.0000],\n",
            "         [0.3843, 0.9137, 0.7765, 0.8235, 0.8706, 0.8980, 0.8980, 0.9176,\n",
            "          0.9765, 0.8627, 0.7608, 0.8431, 0.8510, 0.9451, 0.2549, 0.2863,\n",
            "          0.4157, 0.4588, 0.6588, 0.8588, 0.8667, 0.8431, 0.8510, 0.8745,\n",
            "          0.8745, 0.8784, 0.8980, 0.1137],\n",
            "         [0.2941, 0.8000, 0.8314, 0.8000, 0.7569, 0.8039, 0.8275, 0.8824,\n",
            "          0.8471, 0.7255, 0.7725, 0.8078, 0.7765, 0.8353, 0.9412, 0.7647,\n",
            "          0.8902, 0.9608, 0.9373, 0.8745, 0.8549, 0.8314, 0.8196, 0.8706,\n",
            "          0.8627, 0.8667, 0.9020, 0.2627],\n",
            "         [0.1882, 0.7961, 0.7176, 0.7608, 0.8353, 0.7725, 0.7255, 0.7451,\n",
            "          0.7608, 0.7529, 0.7922, 0.8392, 0.8588, 0.8667, 0.8627, 0.9255,\n",
            "          0.8824, 0.8471, 0.7804, 0.8078, 0.7294, 0.7098, 0.6941, 0.6745,\n",
            "          0.7098, 0.8039, 0.8078, 0.4510],\n",
            "         [0.0000, 0.4784, 0.8588, 0.7569, 0.7020, 0.6706, 0.7176, 0.7686,\n",
            "          0.8000, 0.8235, 0.8353, 0.8118, 0.8275, 0.8235, 0.7843, 0.7686,\n",
            "          0.7608, 0.7490, 0.7647, 0.7490, 0.7765, 0.7529, 0.6902, 0.6118,\n",
            "          0.6549, 0.6941, 0.8235, 0.3608],\n",
            "         [0.0000, 0.0000, 0.2902, 0.7412, 0.8314, 0.7490, 0.6863, 0.6745,\n",
            "          0.6863, 0.7098, 0.7255, 0.7373, 0.7412, 0.7373, 0.7569, 0.7765,\n",
            "          0.8000, 0.8196, 0.8235, 0.8235, 0.8275, 0.7373, 0.7373, 0.7608,\n",
            "          0.7529, 0.8471, 0.6667, 0.0000],\n",
            "         [0.0078, 0.0000, 0.0000, 0.0000, 0.2588, 0.7843, 0.8706, 0.9294,\n",
            "          0.9373, 0.9490, 0.9647, 0.9529, 0.9569, 0.8667, 0.8627, 0.7569,\n",
            "          0.7490, 0.7020, 0.7137, 0.7137, 0.7098, 0.6902, 0.6510, 0.6588,\n",
            "          0.3882, 0.2275, 0.0000, 0.0000],\n",
            "         [0.0000, 0.0000, 0.0000, 0.0000, 0.0000, 0.0000, 0.0000, 0.1569,\n",
            "          0.2392, 0.1725, 0.2824, 0.1608, 0.1373, 0.0000, 0.0000, 0.0000,\n",
            "          0.0000, 0.0000, 0.0000, 0.0000, 0.0000, 0.0000, 0.0000, 0.0000,\n",
            "          0.0000, 0.0000, 0.0000, 0.0000],\n",
            "         [0.0000, 0.0000, 0.0000, 0.0000, 0.0000, 0.0000, 0.0000, 0.0000,\n",
            "          0.0000, 0.0000, 0.0000, 0.0000, 0.0000, 0.0000, 0.0000, 0.0000,\n",
            "          0.0000, 0.0000, 0.0000, 0.0000, 0.0000, 0.0000, 0.0000, 0.0000,\n",
            "          0.0000, 0.0000, 0.0000, 0.0000],\n",
            "         [0.0000, 0.0000, 0.0000, 0.0000, 0.0000, 0.0000, 0.0000, 0.0000,\n",
            "          0.0000, 0.0000, 0.0000, 0.0000, 0.0000, 0.0000, 0.0000, 0.0000,\n",
            "          0.0000, 0.0000, 0.0000, 0.0000, 0.0000, 0.0000, 0.0000, 0.0000,\n",
            "          0.0000, 0.0000, 0.0000, 0.0000]]])\n"
          ]
        }
      ]
    },
    {
      "cell_type": "code",
      "source": [
        "import torch\n",
        "import torch.nn as nn\n",
        "\n",
        "class Autoencoder(nn.Module):\n",
        "  def __init__(self):\n",
        "      super(Autoencoder, self).__init__()\n",
        "\n",
        "      # Encoder\n",
        "      self.encoder = nn.Sequential(\n",
        "          nn.Conv2d(CHANNELS, 32, kernel_size=3, stride=2, padding=1),\n",
        "          nn.ReLU(),\n",
        "          nn.Conv2d(32, 64, kernel_size=3, stride=2, padding=1),\n",
        "          nn.ReLU(),\n",
        "          nn.Conv2d(64, 128, kernel_size=3, stride=2, padding=1),\n",
        "          nn.ReLU(),\n",
        "      )\n",
        "\n",
        "      self.flatten = nn.Flatten()\n",
        "      self.fc_encode = nn.Linear(128 * 4 * 4, EMBEDDING_DIM)\n",
        "\n",
        "      # Decoder\n",
        "      self.fc_decode = nn.Linear(EMBEDDING_DIM, 128 * 4 * 4)\n",
        "      self.unflatten = nn.Unflatten(1, (128, 4, 4))\n",
        "\n",
        "      self.decoder = nn.Sequential(\n",
        "          nn.ConvTranspose2d(128, 64, kernel_size=3, stride=2, padding=1, output_padding=1),\n",
        "          nn.ReLU(),\n",
        "          nn.ConvTranspose2d(64, 32, kernel_size=3, stride=2, padding=1, output_padding=1),\n",
        "          nn.ReLU(),\n",
        "          nn.ConvTranspose2d(32, CHANNELS, kernel_size=3, stride=2, padding=1, output_padding=1),\n",
        "          nn.Sigmoid(),\n",
        "      )\n",
        "\n",
        "  def forward(self, x):\n",
        "      x = self.encoder(x)\n",
        "      x = self.flatten(x)\n",
        "      z = self.fc_encode(x)\n",
        "      x = self.fc_decode(z)\n",
        "      x = self.unflatten(x)\n",
        "      x = self.decoder(x)\n",
        "      return x, z\n",
        "\n",
        "  def decode_from_embedding(self, embedding):\n",
        "      \"\"\"\n",
        "      Decode a given embedding to reconstruct the corresponding image.\n",
        "\n",
        "      Args:\n",
        "          embedding (torch.Tensor): The latent space embedding (shape: [batch_size, EMBEDDING_DIM]).\n",
        "\n",
        "      Returns:\n",
        "          torch.Tensor: The reconstructed image (shape: [batch_size, CHANNELS, IMAGE_SIZE, IMAGE_SIZE]).\n",
        "      \"\"\"\n",
        "      x = self.fc_decode(embedding)\n",
        "      x = self.unflatten(x)\n",
        "      x = self.decoder(x)\n",
        "      return x\n"
      ],
      "metadata": {
        "id": "W2FMDDLH0Qdh"
      },
      "execution_count": 12,
      "outputs": []
    },
    {
      "cell_type": "code",
      "source": [
        "# Model Initialization\n",
        "device = torch.device(\"cuda\" if torch.cuda.is_available() else \"cpu\")\n",
        "model = Autoencoder().to(device)\n",
        "criterion = nn.BCELoss()\n",
        "optimizer = optim.Adam(model.parameters(), lr=1e-3)"
      ],
      "metadata": {
        "id": "bXQhAJpX2DuX"
      },
      "execution_count": 13,
      "outputs": []
    },
    {
      "cell_type": "code",
      "source": [
        "from torchinfo import summary\n",
        "\n",
        "# Print model summary\n",
        "summary(model, input_size=(BATCH_SIZE, CHANNELS, IMAGE_SIZE, IMAGE_SIZE))"
      ],
      "metadata": {
        "colab": {
          "base_uri": "https://localhost:8080/"
        },
        "id": "3x2FiBWE2dFQ",
        "outputId": "f7967570-8302-4142-f19f-51c4089f2a37"
      },
      "execution_count": 14,
      "outputs": [
        {
          "output_type": "execute_result",
          "data": {
            "text/plain": [
              "==========================================================================================\n",
              "Layer (type:depth-idx)                   Output Shape              Param #\n",
              "==========================================================================================\n",
              "Autoencoder                              [100, 1, 32, 32]          --\n",
              "├─Sequential: 1-1                        [100, 128, 4, 4]          --\n",
              "│    └─Conv2d: 2-1                       [100, 32, 16, 16]         320\n",
              "│    └─ReLU: 2-2                         [100, 32, 16, 16]         --\n",
              "│    └─Conv2d: 2-3                       [100, 64, 8, 8]           18,496\n",
              "│    └─ReLU: 2-4                         [100, 64, 8, 8]           --\n",
              "│    └─Conv2d: 2-5                       [100, 128, 4, 4]          73,856\n",
              "│    └─ReLU: 2-6                         [100, 128, 4, 4]          --\n",
              "├─Flatten: 1-2                           [100, 2048]               --\n",
              "├─Linear: 1-3                            [100, 2]                  4,098\n",
              "├─Linear: 1-4                            [100, 2048]               6,144\n",
              "├─Unflatten: 1-5                         [100, 128, 4, 4]          --\n",
              "├─Sequential: 1-6                        [100, 1, 32, 32]          --\n",
              "│    └─ConvTranspose2d: 2-7              [100, 64, 8, 8]           73,792\n",
              "│    └─ReLU: 2-8                         [100, 64, 8, 8]           --\n",
              "│    └─ConvTranspose2d: 2-9              [100, 32, 16, 16]         18,464\n",
              "│    └─ReLU: 2-10                        [100, 32, 16, 16]         --\n",
              "│    └─ConvTranspose2d: 2-11             [100, 1, 32, 32]          289\n",
              "│    └─Sigmoid: 2-12                     [100, 1, 32, 32]          --\n",
              "==========================================================================================\n",
              "Total params: 195,459\n",
              "Trainable params: 195,459\n",
              "Non-trainable params: 0\n",
              "Total mult-adds (G): 1.22\n",
              "==========================================================================================\n",
              "Input size (MB): 0.41\n",
              "Forward/backward pass size (MB): 23.76\n",
              "Params size (MB): 0.78\n",
              "Estimated Total Size (MB): 24.95\n",
              "=========================================================================================="
            ]
          },
          "metadata": {},
          "execution_count": 14
        }
      ]
    },
    {
      "cell_type": "code",
      "source": [
        "import time\n",
        "\n",
        "def train_model():\n",
        "    model.train()\n",
        "    for epoch in range(EPOCHS):\n",
        "        total_loss = 0\n",
        "        start_time = time.time()  # Record the start time\n",
        "\n",
        "        for images, _ in train_loader:\n",
        "            images = images.to(device)\n",
        "\n",
        "            # Forward pass\n",
        "            reconstructed, _ = model(images)\n",
        "            loss = criterion(reconstructed, images)\n",
        "\n",
        "            # Backward pass\n",
        "            optimizer.zero_grad()\n",
        "            loss.backward()\n",
        "            optimizer.step()\n",
        "\n",
        "            total_loss += loss.item()\n",
        "\n",
        "        # Calculate epoch duration\n",
        "        end_time = time.time()\n",
        "        epoch_duration = end_time - start_time\n",
        "\n",
        "        print(f\"Epoch {epoch + 1}/{EPOCHS}, Loss: {total_loss / len(train_loader):.4f}, Time: {epoch_duration:.2f} seconds\")\n",
        "\n",
        "def evaluate_model(loader):\n",
        "    model.eval()\n",
        "    with torch.no_grad():\n",
        "        for images, labels in loader:\n",
        "            images = images.to(device)\n",
        "            reconstructed, embeddings = model(images)\n",
        "            return images.cpu(), reconstructed.cpu(), embeddings.cpu()\n"
      ],
      "metadata": {
        "id": "B9tbRhXG3FRp"
      },
      "execution_count": 15,
      "outputs": []
    },
    {
      "cell_type": "code",
      "source": [
        "# Train the model\n",
        "train_model()"
      ],
      "metadata": {
        "colab": {
          "base_uri": "https://localhost:8080/"
        },
        "id": "qNgVmNUj3KgP",
        "outputId": "eab5ebba-0621-426b-a728-1c946c66d375"
      },
      "execution_count": 16,
      "outputs": [
        {
          "output_type": "stream",
          "name": "stdout",
          "text": [
            "Epoch 1/20, Loss: 0.2870, Time: 17.38 seconds\n",
            "Epoch 2/20, Loss: 0.2576, Time: 11.66 seconds\n",
            "Epoch 3/20, Loss: 0.2544, Time: 11.78 seconds\n",
            "Epoch 4/20, Loss: 0.2528, Time: 12.13 seconds\n",
            "Epoch 5/20, Loss: 0.2517, Time: 11.78 seconds\n",
            "Epoch 6/20, Loss: 0.2508, Time: 12.45 seconds\n",
            "Epoch 7/20, Loss: 0.2499, Time: 11.73 seconds\n",
            "Epoch 8/20, Loss: 0.2494, Time: 11.79 seconds\n",
            "Epoch 9/20, Loss: 0.2488, Time: 11.73 seconds\n",
            "Epoch 10/20, Loss: 0.2484, Time: 11.71 seconds\n",
            "Epoch 11/20, Loss: 0.2480, Time: 11.74 seconds\n",
            "Epoch 12/20, Loss: 0.2476, Time: 11.62 seconds\n",
            "Epoch 13/20, Loss: 0.2473, Time: 11.75 seconds\n",
            "Epoch 14/20, Loss: 0.2470, Time: 11.69 seconds\n",
            "Epoch 15/20, Loss: 0.2467, Time: 11.74 seconds\n",
            "Epoch 16/20, Loss: 0.2465, Time: 11.69 seconds\n",
            "Epoch 17/20, Loss: 0.2463, Time: 11.54 seconds\n",
            "Epoch 18/20, Loss: 0.2460, Time: 11.91 seconds\n",
            "Epoch 19/20, Loss: 0.2459, Time: 11.63 seconds\n",
            "Epoch 20/20, Loss: 0.2457, Time: 11.60 seconds\n"
          ]
        }
      ]
    },
    {
      "cell_type": "code",
      "source": [
        "# Evaluate and Visualize\n",
        "example_images, reconstructed_images, embeddings = evaluate_model(test_loader)"
      ],
      "metadata": {
        "id": "qvAq7Vy_4KS3"
      },
      "execution_count": 17,
      "outputs": []
    },
    {
      "cell_type": "code",
      "source": [
        "# Visualize Original and Reconstructed Images\n",
        "def display(images, title):\n",
        "    fig, axes = plt.subplots(1, 10, figsize=(15, 4))\n",
        "    for i, ax in enumerate(axes):\n",
        "        ax.imshow(images[i].squeeze(), cmap=\"gray\")\n",
        "        ax.axis(\"off\")\n",
        "    plt.suptitle(title)\n",
        "    plt.show()\n",
        "\n",
        "display(example_images[:10], \"Original Images\")\n",
        "display(reconstructed_images[:10], \"Reconstructed Images\")"
      ],
      "metadata": {
        "colab": {
          "base_uri": "https://localhost:8080/",
          "height": 543
        },
        "id": "y_2tq_be4Ncd",
        "outputId": "a8ea513e-3330-43ee-ae30-43fc3fbd1b8a"
      },
      "execution_count": 18,
      "outputs": [
        {
          "output_type": "display_data",
          "data": {
            "text/plain": [
              "<Figure size 1500x400 with 10 Axes>"
            ],
            "image/png": "[encoded data removed]"
          },
          "metadata": {}
        },
        {
          "output_type": "display_data",
          "data": {
            "text/plain": [
              "<Figure size 1500x400 with 10 Axes>"
            ],
            "image/png": "[encoded data removed]"
          },
          "metadata": {}
        }
      ]
    },
    {
      "cell_type": "code",
      "execution_count": 19,
      "metadata": {
        "colab": {
          "base_uri": "https://localhost:8080/",
          "height": 699
        },
        "id": "XPT1Oexiyb31",
        "outputId": "5b60d674-85e5-4706-90cc-e25dfefe8ae7"
      },
      "outputs": [
        {
          "output_type": "display_data",
          "data": {
            "text/plain": [
              "<Figure size 800x800 with 2 Axes>"
            ],
            "image/png": "[encoded data removed]"
          },
          "metadata": {}
        }
      ],
      "source": [
        "# Visualize Embeddings\n",
        "plt.figure(figsize=(8, 8))\n",
        "plt.scatter(embeddings[:, 0], embeddings[:, 1], c=train_dataset.targets[:len(embeddings)], cmap=\"rainbow\", s=3, alpha=0.8)\n",
        "plt.colorbar()\n",
        "plt.title(\"Latent Space Embeddings\")\n",
        "plt.show()\n"
      ]
    },
    {
      "cell_type": "code",
      "source": [
        "embeddings"
      ],
      "metadata": {
        "colab": {
          "base_uri": "https://localhost:8080/"
        },
        "collapsed": true,
        "id": "ApQjtdHfuX8n",
        "outputId": "f5b7b989-b50e-494f-8923-ca73f5b8e5c6"
      },
      "execution_count": 20,
      "outputs": [
        {
          "output_type": "execute_result",
          "data": {
            "text/plain": [
              "tensor([[ 2.4154e-01, -1.2225e+00],\n",
              "        [-3.3308e+00,  2.3196e+00],\n",
              "        [-6.4869e+00, -4.0010e+00],\n",
              "        [-3.9953e+00, -2.7684e+00],\n",
              "        [-1.2169e+00,  1.2875e+00],\n",
              "        [-4.4745e+00, -2.4955e+00],\n",
              "        [-1.1648e+00,  1.3624e-01],\n",
              "        [-1.3373e+00,  7.0464e-01],\n",
              "        [-1.7128e+00, -3.4312e+00],\n",
              "        [-5.1285e-01, -3.0605e+00],\n",
              "        [-2.1190e+00,  1.3014e+00],\n",
              "        [-2.0356e-02, -1.3091e+00],\n",
              "        [-2.2887e-01, -1.5193e+00],\n",
              "        [-4.0151e+00, -1.7104e+00],\n",
              "        [-3.6343e+00,  2.4089e+00],\n",
              "        [-3.9287e+00, -2.8567e+00],\n",
              "        [-1.2067e+00,  1.0408e+00],\n",
              "        [-1.5890e+00,  1.5865e+00],\n",
              "        [ 6.0573e-01,  2.2521e+00],\n",
              "        [-4.4047e+00, -3.1739e-02],\n",
              "        [-1.5490e+00,  2.5203e+00],\n",
              "        [-8.0039e-02, -2.3888e+00],\n",
              "        [ 2.7206e-01, -2.6134e+00],\n",
              "        [ 1.2870e-01, -1.8033e+00],\n",
              "        [-3.7964e+00, -2.5147e+00],\n",
              "        [-1.0983e+00,  5.2145e-01],\n",
              "        [-2.8203e+00,  1.8166e+00],\n",
              "        [-6.4014e+00, -1.5369e+00],\n",
              "        [ 4.7701e-01, -1.1510e+00],\n",
              "        [-4.6330e+00, -7.4721e-01],\n",
              "        [-4.9421e-01,  2.1246e+00],\n",
              "        [-4.1664e-01,  4.6405e-01],\n",
              "        [-2.6917e+00, -2.8317e+00],\n",
              "        [-4.2567e+00, -6.3256e-01],\n",
              "        [-4.2100e-01,  1.0046e+00],\n",
              "        [-1.7454e+00, -2.5371e-01],\n",
              "        [-2.6328e-01, -2.7355e+00],\n",
              "        [-1.6722e+00, -3.4152e+00],\n",
              "        [-4.8783e-02, -3.1253e+00],\n",
              "        [ 5.9079e-01, -8.4355e-01],\n",
              "        [-4.5793e+00, -4.1443e-02],\n",
              "        [-6.6859e+00, -4.4874e+00],\n",
              "        [-4.4766e+00, -7.8248e-01],\n",
              "        [ 6.3556e-01, -1.5289e+00],\n",
              "        [-3.5375e+00,  1.7315e+00],\n",
              "        [ 9.4502e-02, -8.9358e-01],\n",
              "        [-2.1907e+00,  2.1167e+00],\n",
              "        [-4.9876e+00, -3.3952e+00],\n",
              "        [-1.5413e+00,  6.9154e-01],\n",
              "        [-2.4454e+00,  1.5274e+00],\n",
              "        [-2.1282e+00,  2.5340e+00],\n",
              "        [-1.1799e+00,  5.4282e-01],\n",
              "        [-8.6866e-01, -2.1040e+00],\n",
              "        [-2.6171e+00,  2.5627e+00],\n",
              "        [-1.8950e+00,  5.3914e-01],\n",
              "        [-1.9293e+00,  2.3124e+00],\n",
              "        [ 8.1164e-01,  3.5648e+00],\n",
              "        [-2.2491e+00,  1.3429e+00],\n",
              "        [ 1.1540e+00,  3.2118e+00],\n",
              "        [-1.4400e+00, -1.9646e-01],\n",
              "        [-3.4474e-01, -2.9583e+00],\n",
              "        [ 1.2491e-01, -1.9979e+00],\n",
              "        [ 2.4472e-03,  1.9328e+00],\n",
              "        [-2.8175e-01, -1.5770e+00],\n",
              "        [-6.5919e+00, -3.8729e+00],\n",
              "        [-3.1462e+00, -2.2439e+00],\n",
              "        [-2.2497e+00, -6.9919e-01],\n",
              "        [-4.4159e+00, -1.1052e+00],\n",
              "        [ 1.0254e-01, -1.1809e+00],\n",
              "        [-4.2266e-01,  1.7755e+00],\n",
              "        [-1.7304e-01, -2.2644e+00],\n",
              "        [-1.1572e+00, -7.7900e-02],\n",
              "        [-2.3863e+00,  3.3833e+00],\n",
              "        [-5.9323e+00, -5.0288e-01],\n",
              "        [-3.1813e+00,  1.4104e+00],\n",
              "        [-1.9520e+00, -1.0616e+00],\n",
              "        [-5.5597e+00, -3.4099e+00],\n",
              "        [-3.7121e+00,  2.7659e+00],\n",
              "        [ 1.7391e-01,  2.4240e+00],\n",
              "        [-2.8677e+00,  2.2919e+00],\n",
              "        [-2.4747e+00, -1.5797e+00],\n",
              "        [-4.0217e-01,  2.1606e+00],\n",
              "        [-8.7039e-02, -4.1258e-01],\n",
              "        [ 8.7696e-01, -9.5129e-01],\n",
              "        [-3.4472e-01, -1.6258e+00],\n",
              "        [-4.4907e+00, -1.1870e-01],\n",
              "        [-5.7075e+00, -1.9344e+00],\n",
              "        [-3.6045e+00,  1.8006e+00],\n",
              "        [-4.1171e+00, -1.4758e-01],\n",
              "        [-2.2272e+00,  2.8211e+00],\n",
              "        [-6.5476e-01, -1.5908e+00],\n",
              "        [-1.9019e+00, -9.2312e-01],\n",
              "        [-3.8287e+00,  1.8967e+00],\n",
              "        [ 3.6002e-01, -2.8589e+00],\n",
              "        [-4.9141e+00, -3.3341e+00],\n",
              "        [ 1.0050e+00,  3.2495e+00],\n",
              "        [-1.6684e+00, -2.5536e-01],\n",
              "        [-4.1114e+00, -3.0761e+00],\n",
              "        [-2.9373e+00,  2.5718e+00],\n",
              "        [-2.9688e+00,  2.0226e+00]])"
            ]
          },
          "metadata": {},
          "execution_count": 20
        }
      ]
    },
    {
      "cell_type": "code",
      "source": [
        "# Assuming embeddings is your tensor\n",
        "first_dim_min = embeddings[:, 0].min().item()\n",
        "first_dim_max = embeddings[:, 0].max().item()\n",
        "\n",
        "second_dim_min = embeddings[:, 1].min().item()\n",
        "second_dim_max = embeddings[:, 1].max().item()\n",
        "\n",
        "print(f\"First dimension - Min: {first_dim_min}, Max: {first_dim_max}\")\n",
        "print(f\"Second dimension - Min: {second_dim_min}, Max: {second_dim_max}\")\n"
      ],
      "metadata": {
        "colab": {
          "base_uri": "https://localhost:8080/"
        },
        "id": "mNPtcy8cuyBO",
        "outputId": "826e58d1-fbc4-41df-a10d-dab6d8d99cfc"
      },
      "execution_count": 21,
      "outputs": [
        {
          "output_type": "stream",
          "name": "stdout",
          "text": [
            "First dimension - Min: -6.685872554779053, Max: 1.1539560556411743\n",
            "Second dimension - Min: -4.487391471862793, Max: 3.5647990703582764\n"
          ]
        }
      ]
    },
    {
      "cell_type": "code",
      "source": [
        "import torch\n",
        "import matplotlib.pyplot as plt\n",
        "\n",
        "# Generate a random embedding within the specified range\n",
        "random_embedding = torch.tensor([\n",
        "    torch.FloatTensor(1).uniform_(first_dim_min, first_dim_max).item(),\n",
        "    torch.FloatTensor(1).uniform_(second_dim_min, second_dim_max).item()\n",
        "]).to(device)\n",
        "\n",
        "# Add batch dimension to the embedding\n",
        "random_embedding = random_embedding.unsqueeze(0)  # Shape: (1, EMBEDDING_DIM)\n",
        "\n",
        "# Decode the random embedding to generate an image\n",
        "with torch.no_grad():\n",
        "    decoded_image = model.fc_decode(random_embedding)\n",
        "    decoded_image = model.unflatten(decoded_image)\n",
        "    decoded_image = model.decoder(decoded_image)\n",
        "\n",
        "# Convert the decoded image to CPU and detach\n",
        "decoded_image = decoded_image.cpu().squeeze(0).squeeze(0)  # Remove batch and channel dimensions\n",
        "\n",
        "# Visualize the reconstructed image\n",
        "plt.imshow(decoded_image.numpy(), cmap='gray')\n",
        "plt.title(\"Reconstructed Image from Random Embedding\")\n",
        "plt.axis('off')\n",
        "plt.show()\n"
      ],
      "metadata": {
        "colab": {
          "base_uri": "https://localhost:8080/",
          "height": 428
        },
        "id": "z2pONf1tvBft",
        "outputId": "8c0e3ea7-2efb-482a-b18b-e4b4d846bc9b"
      },
      "execution_count": 22,
      "outputs": [
        {
          "output_type": "display_data",
          "data": {
            "text/plain": [
              "<Figure size 640x480 with 1 Axes>"
            ],
            "image/png": "[encoded data removed]"
          },
          "metadata": {}
        }
      ]
    },
    {
      "cell_type": "code",
      "source": [
        "# Instantiate the model\n",
        "# model = Autoencoder().to(device)\n",
        "\n",
        "# Generate a random embedding\n",
        "random_embedding = torch.tensor([\n",
        "    torch.FloatTensor(1).uniform_(first_dim_min, first_dim_max).item(),\n",
        "    torch.FloatTensor(1).uniform_(second_dim_min, second_dim_max).item()\n",
        "]).to(device)\n",
        "\n",
        "random_embedding = random_embedding.unsqueeze(0)  # Add batch dimension\n",
        "\n",
        "# Decode the embedding\n",
        "with torch.no_grad():\n",
        "    reconstructed_image = model.decode_from_embedding(random_embedding)\n",
        "\n",
        "# Visualize the reconstructed image\n",
        "import matplotlib.pyplot as plt\n",
        "reconstructed_image = reconstructed_image.cpu().squeeze(0).squeeze(0)  # Remove batch and channel dimensions\n",
        "plt.imshow(reconstructed_image.numpy(), cmap='gray')\n",
        "plt.title(\"Reconstructed Image from Random Embedding\")\n",
        "plt.axis('off')\n",
        "plt.show()"
      ],
      "metadata": {
        "colab": {
          "base_uri": "https://localhost:8080/",
          "height": 428
        },
        "id": "WHcLRRpavBZG",
        "outputId": "331f443b-bd34-40d4-aa8f-a4cb2cfd4e33"
      },
      "execution_count": 23,
      "outputs": [
        {
          "output_type": "display_data",
          "data": {
            "text/plain": [
              "<Figure size 640x480 with 1 Axes>"
            ],
            "image/png": "[encoded data removed]"
          },
          "metadata": {}
        }
      ]
    },
    {
      "cell_type": "code",
      "source": [
        "# Specify the embedding explicitly as [-1, -1]\n",
        "specified_embedding = torch.tensor([[-1.0, -1.0]], device=device)  # Shape: (1, EMBEDDING_DIM)\n",
        "\n",
        "# Decode the specified embedding\n",
        "with torch.no_grad():\n",
        "    reconstructed_image = model.decode_from_embedding(specified_embedding)\n",
        "\n",
        "# Visualize the reconstructed image\n",
        "import matplotlib.pyplot as plt\n",
        "reconstructed_image = reconstructed_image.cpu().squeeze(0).squeeze(0)  # Remove batch and channel dimensions\n",
        "plt.imshow(reconstructed_image.numpy(), cmap='gray')\n",
        "plt.title(\"Reconstructed Image from Specified Embedding [-1, -1]\")\n",
        "plt.axis('off')\n",
        "plt.show()"
      ],
      "metadata": {
        "colab": {
          "base_uri": "https://localhost:8080/",
          "height": 428
        },
        "id": "Ad5Gl4NQ0r8u",
        "outputId": "21d6a78a-b1ad-42e0-f6f6-84bf740fe291"
      },
      "execution_count": 48,
      "outputs": [
        {
          "output_type": "display_data",
          "data": {
            "text/plain": [
              "<Figure size 640x480 with 1 Axes>"
            ],
            "image/png": "[encoded data removed]"
          },
          "metadata": {}
        }
      ]
    },
    {
      "cell_type": "code",
      "source": [
        "# Specify the embedding explicitly as [-1, -1]\n",
        "specified_embedding = torch.tensor([[0, -4.0]], device=device)  # Shape: (1, EMBEDDING_DIM)\n",
        "\n",
        "# Decode the specified embedding\n",
        "with torch.no_grad():\n",
        "    reconstructed_image = model.decode_from_embedding(specified_embedding)\n",
        "\n",
        "# Visualize the reconstructed image\n",
        "import matplotlib.pyplot as plt\n",
        "reconstructed_image = reconstructed_image.cpu().squeeze(0).squeeze(0)  # Remove batch and channel dimensions\n",
        "plt.imshow(reconstructed_image.numpy(), cmap='gray')\n",
        "plt.title(\"Reconstructed Image from Specified Embedding [0, -4]\")\n",
        "plt.axis('off')\n",
        "plt.show()"
      ],
      "metadata": {
        "colab": {
          "base_uri": "https://localhost:8080/",
          "height": 428
        },
        "id": "4O38NQuw028t",
        "outputId": "b74bcb5d-24df-40d4-e77e-63cd4db044c2"
      },
      "execution_count": 49,
      "outputs": [
        {
          "output_type": "display_data",
          "data": {
            "text/plain": [
              "<Figure size 640x480 with 1 Axes>"
            ],
            "image/png": "[encoded data removed]"
          },
          "metadata": {}
        }
      ]
    },
    {
      "cell_type": "code",
      "source": [
        "# Specify the embedding explicitly as [-1, -1]\n",
        "specified_embedding = torch.tensor([[-4.0, -5.0]], device=device)  # Shape: (1, EMBEDDING_DIM)\n",
        "\n",
        "# Decode the specified embedding\n",
        "with torch.no_grad():\n",
        "    reconstructed_image = model.decode_from_embedding(specified_embedding)\n",
        "\n",
        "# Visualize the reconstructed image\n",
        "import matplotlib.pyplot as plt\n",
        "reconstructed_image = reconstructed_image.cpu().squeeze(0).squeeze(0)  # Remove batch and channel dimensions\n",
        "plt.imshow(reconstructed_image.numpy(), cmap='gray')\n",
        "plt.title(\"Reconstructed Image from Specified Embedding [-4, -5]\")\n",
        "plt.axis('off')\n",
        "plt.show()"
      ],
      "metadata": {
        "colab": {
          "base_uri": "https://localhost:8080/",
          "height": 428
        },
        "id": "OF6qf43j1Ebf",
        "outputId": "1cb38e06-30ce-47cb-d8c1-562dfdd7c8a1"
      },
      "execution_count": 50,
      "outputs": [
        {
          "output_type": "display_data",
          "data": {
            "text/plain": [
              "<Figure size 640x480 with 1 Axes>"
            ],
            "image/png": "[encoded data removed]"
          },
          "metadata": {}
        }
      ]
    },
    {
      "cell_type": "code",
      "source": [
        "# Specify the embedding explicitly as [-1, -1]\n",
        "specified_embedding = torch.tensor([[-2.0, 0.0]], device=device)  # Shape: (1, EMBEDDING_DIM)\n",
        "\n",
        "# Decode the specified embedding\n",
        "with torch.no_grad():\n",
        "    reconstructed_image = model.decode_from_embedding(specified_embedding)\n",
        "\n",
        "# Visualize the reconstructed image\n",
        "import matplotlib.pyplot as plt\n",
        "reconstructed_image = reconstructed_image.cpu().squeeze(0).squeeze(0)  # Remove batch and channel dimensions\n",
        "plt.imshow(reconstructed_image.numpy(), cmap='gray')\n",
        "plt.title(\"Reconstructed Image from Specified Embedding [-2, 0]\")\n",
        "plt.axis('off')\n",
        "plt.show()"
      ],
      "metadata": {
        "colab": {
          "base_uri": "https://localhost:8080/",
          "height": 428
        },
        "id": "w_okCvUo1Ucl",
        "outputId": "9ab47ef1-96f0-4432-f510-9e3defd5a243"
      },
      "execution_count": 51,
      "outputs": [
        {
          "output_type": "display_data",
          "data": {
            "text/plain": [
              "<Figure size 640x480 with 1 Axes>"
            ],
            "image/png": "[encoded data removed]"
          },
          "metadata": {}
        }
      ]
    },
    {
      "cell_type": "code",
      "source": [
        "# Specify the embedding explicitly as [-1, -1]\n",
        "specified_embedding = torch.tensor([[-1.0, 0.0]], device=device)  # Shape: (1, EMBEDDING_DIM)\n",
        "\n",
        "# Decode the specified embedding\n",
        "with torch.no_grad():\n",
        "    reconstructed_image = model.decode_from_embedding(specified_embedding)\n",
        "\n",
        "# Visualize the reconstructed image\n",
        "import matplotlib.pyplot as plt\n",
        "reconstructed_image = reconstructed_image.cpu().squeeze(0).squeeze(0)  # Remove batch and channel dimensions\n",
        "plt.imshow(reconstructed_image.numpy(), cmap='gray')\n",
        "plt.title(\"Reconstructed Image from Specified Embedding [-1, 0]\")\n",
        "plt.axis('off')\n",
        "plt.show()"
      ],
      "metadata": {
        "colab": {
          "base_uri": "https://localhost:8080/",
          "height": 428
        },
        "id": "LlEndW6C1oS2",
        "outputId": "160d62a8-048e-4965-b099-f12c25662ff9"
      },
      "execution_count": 52,
      "outputs": [
        {
          "output_type": "display_data",
          "data": {
            "text/plain": [
              "<Figure size 640x480 with 1 Axes>"
            ],
            "image/png": "[encoded data removed]"
          },
          "metadata": {}
        }
      ]
    },
    {
      "cell_type": "code",
      "source": [
        "import matplotlib.pyplot as plt\n",
        "import torchvision.transforms as transforms\n",
        "from PIL import Image\n",
        "\n",
        "# Get the dataset from the DataLoader\n",
        "dataset = train_loader.dataset\n",
        "\n",
        "# Specify which image you want\n",
        "image_index = 10  # Index of the desired image in the dataset\n",
        "image, label = dataset[image_index]  # Access the image and its label\n"
      ],
      "metadata": {
        "id": "zcFg8d8Q5x7W"
      },
      "execution_count": 24,
      "outputs": []
    },
    {
      "cell_type": "code",
      "source": [
        "label"
      ],
      "metadata": {
        "colab": {
          "base_uri": "https://localhost:8080/"
        },
        "id": "F5-3i4Il65PH",
        "outputId": "c5464b9b-708c-407e-e56d-e4f2bed0a94b"
      },
      "execution_count": 25,
      "outputs": [
        {
          "output_type": "execute_result",
          "data": {
            "text/plain": [
              "0"
            ]
          },
          "metadata": {},
          "execution_count": 25
        }
      ]
    },
    {
      "cell_type": "code",
      "source": [
        "image"
      ],
      "metadata": {
        "colab": {
          "base_uri": "https://localhost:8080/"
        },
        "id": "XZh6Q2OS68-d",
        "outputId": "37668977-5885-48fb-e67a-20e8ea3a3876"
      },
      "execution_count": 26,
      "outputs": [
        {
          "output_type": "execute_result",
          "data": {
            "text/plain": [
              "tensor([[[0., 0., 0.,  ..., 0., 0., 0.],\n",
              "         [0., 0., 0.,  ..., 0., 0., 0.],\n",
              "         [0., 0., 0.,  ..., 0., 0., 0.],\n",
              "         ...,\n",
              "         [0., 0., 0.,  ..., 0., 0., 0.],\n",
              "         [0., 0., 0.,  ..., 0., 0., 0.],\n",
              "         [0., 0., 0.,  ..., 0., 0., 0.]]])"
            ]
          },
          "metadata": {},
          "execution_count": 26
        }
      ]
    },
    {
      "cell_type": "code",
      "source": [
        "# Convert the tensor to a PIL image (undo normalization if necessary)\n",
        "to_pil = transforms.ToPILImage()\n",
        "pil_image = to_pil(image)\n",
        "\n",
        "# Display the image\n",
        "plt.imshow(pil_image, cmap=\"gray\")\n",
        "plt.title(f\"Label: {label}\")\n",
        "plt.axis(\"off\")\n",
        "plt.show()\n"
      ],
      "metadata": {
        "colab": {
          "base_uri": "https://localhost:8080/",
          "height": 428
        },
        "id": "HFl7yZgR6-jA",
        "outputId": "781d0ade-4c1b-4445-cb51-c44d97a73bfe"
      },
      "execution_count": 27,
      "outputs": [
        {
          "output_type": "display_data",
          "data": {
            "text/plain": [
              "<Figure size 640x480 with 1 Axes>"
            ],
            "image/png": "[encoded data removed]"
          },
          "metadata": {}
        }
      ]
    },
    {
      "cell_type": "code",
      "source": [
        "# Save the image to a file\n",
        "pil_image.save(f\"image_{image_index}_label_{label}.png\")\n",
        "print(f\"Image saved as image_{image_index}_label_{label}.png\")"
      ],
      "metadata": {
        "colab": {
          "base_uri": "https://localhost:8080/"
        },
        "id": "De2c5L2X7N5O",
        "outputId": "af0f0062-9b46-4e13-bca1-52a844fde0f8"
      },
      "execution_count": 28,
      "outputs": [
        {
          "output_type": "stream",
          "name": "stdout",
          "text": [
            "Image saved as image_10_label_0.png\n"
          ]
        }
      ]
    },
    {
      "cell_type": "code",
      "source": [
        "for batch_idx, (images, labels) in enumerate(train_loader):\n",
        "    specific_image = images[5]  # Select the 5th image in this batch\n",
        "    specific_label = labels[5]  # Get the corresponding label\n",
        "    break  # Exit after extracting the first batch\n",
        "\n",
        "# Convert to a PIL image\n",
        "pil_image = to_pil(specific_image)\n",
        "\n",
        "# Display and save\n",
        "plt.imshow(pil_image, cmap=\"gray\")\n",
        "plt.title(f\"Label: {specific_label}\")\n",
        "plt.axis(\"off\")\n",
        "plt.show()\n",
        "\n",
        "# Save the image\n",
        "pil_image.save(f\"specific_image_label_{specific_label}.png\")\n"
      ],
      "metadata": {
        "colab": {
          "base_uri": "https://localhost:8080/",
          "height": 428
        },
        "id": "gGPUZ01k7UJf",
        "outputId": "924a1629-5ac6-4cda-eb12-c18db7dd2840"
      },
      "execution_count": 29,
      "outputs": [
        {
          "output_type": "display_data",
          "data": {
            "text/plain": [
              "<Figure size 640x480 with 1 Axes>"
            ],
            "image/png": "[encoded data removed]"
          },
          "metadata": {}
        }
      ]
    },
    {
      "cell_type": "code",
      "source": [
        "train_dataset[0]"
      ],
      "metadata": {
        "colab": {
          "base_uri": "https://localhost:8080/"
        },
        "id": "1d0-QEhs7eEe",
        "outputId": "379a710e-afca-4385-9bb5-25b583fc3ad8"
      },
      "execution_count": 30,
      "outputs": [
        {
          "output_type": "execute_result",
          "data": {
            "text/plain": [
              "(tensor([[[0., 0., 0.,  ..., 0., 0., 0.],\n",
              "          [0., 0., 0.,  ..., 0., 0., 0.],\n",
              "          [0., 0., 0.,  ..., 0., 0., 0.],\n",
              "          ...,\n",
              "          [0., 0., 0.,  ..., 0., 0., 0.],\n",
              "          [0., 0., 0.,  ..., 0., 0., 0.],\n",
              "          [0., 0., 0.,  ..., 0., 0., 0.]]]),\n",
              " 9)"
            ]
          },
          "metadata": {},
          "execution_count": 30
        }
      ]
    },
    {
      "cell_type": "code",
      "source": [
        "# Extract the first image\n",
        "image = train_dataset[0][0]\n",
        "\n",
        "# Prepare the image\n",
        "image_tensor = image.unsqueeze(0).to(device)  # Add batch dimension and send to device\n",
        "\n",
        "# Generate the embedding\n",
        "model.eval()\n",
        "with torch.no_grad():\n",
        "    _,embedding = model(image_tensor)\n",
        "\n",
        "# Print the embedding\n",
        "embedding_np = embedding.cpu().numpy()\n",
        "print(\"Embedding:\", embedding_np)"
      ],
      "metadata": {
        "colab": {
          "base_uri": "https://localhost:8080/"
        },
        "id": "-j0TxxTE8Gkv",
        "outputId": "56f5500c-3638-49af-8a9d-79326e68307f"
      },
      "execution_count": 31,
      "outputs": [
        {
          "output_type": "stream",
          "name": "stdout",
          "text": [
            "Embedding: [[ 0.73937297 -0.5577268 ]]\n"
          ]
        }
      ]
    },
    {
      "cell_type": "code",
      "source": [
        "train_dataset"
      ],
      "metadata": {
        "colab": {
          "base_uri": "https://localhost:8080/"
        },
        "id": "6ys8y7JA8WiH",
        "outputId": "6b51963a-3776-4b86-b9d0-b2cc4ec9bae5"
      },
      "execution_count": 32,
      "outputs": [
        {
          "output_type": "execute_result",
          "data": {
            "text/plain": [
              "Dataset FashionMNIST\n",
              "    Number of datapoints: 60000\n",
              "    Root location: ./data\n",
              "    Split: Train\n",
              "    StandardTransform\n",
              "Transform: Compose(\n",
              "               Pad(padding=2, fill=0, padding_mode=constant)\n",
              "               ToTensor()\n",
              "           )"
            ]
          },
          "metadata": {},
          "execution_count": 32
        }
      ]
    },
    {
      "cell_type": "code",
      "source": [
        "for i in range(10):\n",
        "    print(train_dataset[i][1])"
      ],
      "metadata": {
        "colab": {
          "base_uri": "https://localhost:8080/"
        },
        "id": "7BEIrNUK8rU3",
        "outputId": "bb5d0ec2-3689-4a7b-bdf2-4ba8e5d5b72d"
      },
      "execution_count": 33,
      "outputs": [
        {
          "output_type": "stream",
          "name": "stdout",
          "text": [
            "9\n",
            "0\n",
            "0\n",
            "3\n",
            "0\n",
            "2\n",
            "7\n",
            "2\n",
            "5\n",
            "5\n"
          ]
        }
      ]
    },
    {
      "cell_type": "code",
      "source": [
        "def endcoding_reading(image):\n",
        "  # Prepare the image\n",
        "  image_tensor = image.unsqueeze(0).to(device)  # Add batch dimension and send to device\n",
        "\n",
        "  # Generate the embedding\n",
        "  model.eval()\n",
        "  with torch.no_grad():\n",
        "      _,embedding = model(image_tensor)\n",
        "\n",
        "  # Print the embedding\n",
        "  embedding_np = embedding.cpu().numpy()\n",
        "  print(\"Embedding:\", embedding_np)\n",
        "\n",
        "  return embedding_np"
      ],
      "metadata": {
        "id": "gy1ae09J-AsA"
      },
      "execution_count": 34,
      "outputs": []
    },
    {
      "cell_type": "code",
      "source": [
        "endcoding_reading(train_dataset[1][0])"
      ],
      "metadata": {
        "colab": {
          "base_uri": "https://localhost:8080/"
        },
        "id": "SBzr9bTw-7Pm",
        "outputId": "1b7a9089-9e09-4447-beda-b198fe181a3e"
      },
      "execution_count": 35,
      "outputs": [
        {
          "output_type": "stream",
          "name": "stdout",
          "text": [
            "Embedding: [[-4.2484384  0.1550467]]\n"
          ]
        },
        {
          "output_type": "execute_result",
          "data": {
            "text/plain": [
              "array([[-4.2484384,  0.1550467]], dtype=float32)"
            ]
          },
          "metadata": {},
          "execution_count": 35
        }
      ]
    },
    {
      "cell_type": "code",
      "source": [
        "endcoding_reading(train_dataset[2][0])"
      ],
      "metadata": {
        "colab": {
          "base_uri": "https://localhost:8080/"
        },
        "id": "JzzeksLy_D7Y",
        "outputId": "59c19ed0-8c2b-41aa-f84b-444e51814b4d"
      },
      "execution_count": 36,
      "outputs": [
        {
          "output_type": "stream",
          "name": "stdout",
          "text": [
            "Embedding: [[-2.2344213 -1.106786 ]]\n"
          ]
        },
        {
          "output_type": "execute_result",
          "data": {
            "text/plain": [
              "array([[-2.2344213, -1.106786 ]], dtype=float32)"
            ]
          },
          "metadata": {},
          "execution_count": 36
        }
      ]
    },
    {
      "cell_type": "code",
      "source": [
        "a = endcoding_reading(train_dataset[1][0])\n",
        "b = endcoding_reading(train_dataset[2][0])"
      ],
      "metadata": {
        "colab": {
          "base_uri": "https://localhost:8080/"
        },
        "id": "RpgKFlzk_GKd",
        "outputId": "6141da2e-35a9-4a43-90cf-460bd12876f2"
      },
      "execution_count": 37,
      "outputs": [
        {
          "output_type": "stream",
          "name": "stdout",
          "text": [
            "Embedding: [[-4.2484384  0.1550467]]\n",
            "Embedding: [[-2.2344213 -1.106786 ]]\n"
          ]
        }
      ]
    },
    {
      "cell_type": "code",
      "source": [
        "a,b"
      ],
      "metadata": {
        "colab": {
          "base_uri": "https://localhost:8080/"
        },
        "id": "c_iJ1ve3_hNG",
        "outputId": "e454f078-91d4-4562-81ac-3a44f450a63d"
      },
      "execution_count": 38,
      "outputs": [
        {
          "output_type": "execute_result",
          "data": {
            "text/plain": [
              "(array([[-4.2484384,  0.1550467]], dtype=float32),\n",
              " array([[-2.2344213, -1.106786 ]], dtype=float32))"
            ]
          },
          "metadata": {},
          "execution_count": 38
        }
      ]
    },
    {
      "cell_type": "code",
      "source": [
        "# Flatten the arrays to 1D\n",
        "a_flat = a.flatten()\n",
        "b_flat = b.flatten()\n",
        "\n",
        "# Compute cosine similarity\n",
        "cosine_similarity = np.dot(a_flat, b_flat) / (np.linalg.norm(a_flat) * np.linalg.norm(b_flat))\n",
        "\n",
        "print(\"Cosine Similarity:\", cosine_similarity)"
      ],
      "metadata": {
        "colab": {
          "base_uri": "https://localhost:8080/"
        },
        "id": "lfE69cJ-_iom",
        "outputId": "65443fa5-8dcf-466d-f1ad-8807d153bf60"
      },
      "execution_count": 39,
      "outputs": [
        {
          "output_type": "stream",
          "name": "stdout",
          "text": [
            "Cosine Similarity: 0.87930894\n"
          ]
        }
      ]
    },
    {
      "cell_type": "code",
      "source": [
        "a_flat"
      ],
      "metadata": {
        "colab": {
          "base_uri": "https://localhost:8080/"
        },
        "id": "aqApvdpi_2mn",
        "outputId": "9d355fd9-a1be-4631-eea5-d9eccaf240b7"
      },
      "execution_count": 40,
      "outputs": [
        {
          "output_type": "execute_result",
          "data": {
            "text/plain": [
              "array([-4.2484384,  0.1550467], dtype=float32)"
            ]
          },
          "metadata": {},
          "execution_count": 40
        }
      ]
    },
    {
      "cell_type": "code",
      "source": [
        "c = endcoding_reading(train_dataset[0][0])\n",
        "d = endcoding_reading(train_dataset[1][0])"
      ],
      "metadata": {
        "colab": {
          "base_uri": "https://localhost:8080/"
        },
        "id": "bSrc93C3_8jW",
        "outputId": "c643bfa7-66ef-43b8-e602-5105d4034c7a"
      },
      "execution_count": 41,
      "outputs": [
        {
          "output_type": "stream",
          "name": "stdout",
          "text": [
            "Embedding: [[ 0.73937297 -0.5577268 ]]\n",
            "Embedding: [[-4.2484384  0.1550467]]\n"
          ]
        }
      ]
    },
    {
      "cell_type": "code",
      "source": [
        "# Flatten the arrays to 1D\n",
        "c_flat = c.flatten()\n",
        "d_flat = d.flatten()\n",
        "\n",
        "# Compute cosine similarity\n",
        "cosine_similarity = np.dot(c_flat, d_flat) / (np.linalg.norm(c_flat) * np.linalg.norm(d_flat))\n",
        "\n",
        "print(\"Cosine Similarity:\", cosine_similarity)"
      ],
      "metadata": {
        "colab": {
          "base_uri": "https://localhost:8080/"
        },
        "id": "CvlWwpE7AgDX",
        "outputId": "2aace6c2-297e-4bea-d3c6-b898e030c28f"
      },
      "execution_count": 42,
      "outputs": [
        {
          "output_type": "stream",
          "name": "stdout",
          "text": [
            "Cosine Similarity: -0.8197717\n"
          ]
        }
      ]
    },
    {
      "cell_type": "code",
      "source": [
        "e = endcoding_reading(train_dataset[8][0])\n",
        "f = endcoding_reading(train_dataset[9][0])"
      ],
      "metadata": {
        "colab": {
          "base_uri": "https://localhost:8080/"
        },
        "id": "n6_mEhS5AqZf",
        "outputId": "46ac33e7-fe69-4573-c1bd-c9bdb5b2a463"
      },
      "execution_count": 43,
      "outputs": [
        {
          "output_type": "stream",
          "name": "stdout",
          "text": [
            "Embedding: [[-0.12289652 -0.2763503 ]]\n",
            "Embedding: [[ 0.04284121 -0.3495653 ]]\n"
          ]
        }
      ]
    },
    {
      "cell_type": "code",
      "source": [
        "# Flatten the arrays to 1D\n",
        "e_flat = e.flatten()\n",
        "f_flat = f.flatten()\n",
        "\n",
        "# Compute cosine similarity\n",
        "cosine_similarity = np.dot(e_flat, f_flat) / (np.linalg.norm(e_flat) * np.linalg.norm(f_flat))\n",
        "\n",
        "print(\"Cosine Similarity:\", cosine_similarity)"
      ],
      "metadata": {
        "colab": {
          "base_uri": "https://localhost:8080/"
        },
        "id": "1hryBJyFBC6o",
        "outputId": "5773770f-b61c-42ec-d1de-792ad5d756ac"
      },
      "execution_count": 44,
      "outputs": [
        {
          "output_type": "stream",
          "name": "stdout",
          "text": [
            "Cosine Similarity: 0.8575051\n"
          ]
        }
      ]
    },
    {
      "cell_type": "code",
      "source": [
        "#1. Euclidean Distance\n",
        "import numpy as np\n",
        "\n",
        "# Compute Euclidean distance\n",
        "euclidean_distance = np.linalg.norm(e_flat - f_flat)\n",
        "\n",
        "print(\"Euclidean Distance:\", euclidean_distance)\n"
      ],
      "metadata": {
        "colab": {
          "base_uri": "https://localhost:8080/"
        },
        "id": "XidTcT4kBPbQ",
        "outputId": "1dc67488-1df2-49c6-d0e3-4dd8b24ae789"
      },
      "execution_count": 45,
      "outputs": [
        {
          "output_type": "stream",
          "name": "stdout",
          "text": [
            "Euclidean Distance: 0.18118894\n"
          ]
        }
      ]
    },
    {
      "cell_type": "code",
      "source": [
        "#1. Euclidean Distance\n",
        "import numpy as np\n",
        "\n",
        "# Compute Euclidean distance\n",
        "euclidean_distance = np.linalg.norm(c_flat - d_flat)\n",
        "\n",
        "print(\"Euclidean Distance:\", euclidean_distance)"
      ],
      "metadata": {
        "colab": {
          "base_uri": "https://localhost:8080/"
        },
        "id": "vtvkWE3sBq7m",
        "outputId": "c66ad5e2-9c81-4976-99d1-a67ad1b9526e"
      },
      "execution_count": 46,
      "outputs": [
        {
          "output_type": "stream",
          "name": "stdout",
          "text": [
            "Euclidean Distance: 5.038482\n"
          ]
        }
      ]
    },
    {
      "cell_type": "code",
      "source": [
        "#2. Manhattan Distance (L1 Norm)\n",
        "# Compute Manhattan distance (L1 norm)\n",
        "manhattan_distance = np.sum(np.abs(a_flat - b_flat))\n",
        "\n",
        "print(\"Manhattan Distance:\", manhattan_distance)\n"
      ],
      "metadata": {
        "colab": {
          "base_uri": "https://localhost:8080/"
        },
        "id": "WYOIJ_iIBxAe",
        "outputId": "81776ea5-8ce0-44a6-be55-9f5ea3433af7"
      },
      "execution_count": 47,
      "outputs": [
        {
          "output_type": "stream",
          "name": "stdout",
          "text": [
            "Manhattan Distance: 3.2758498\n"
          ]
        }
      ]
    },
    {
      "cell_type": "markdown",
      "source": [
        "## Summary of Similarity Measures:\n",
        "\n",
        "1.   Cosine Similarity: Measures the angle between two vectors.\n",
        "\n",
        "2. Euclidean Distance: Measures the straight-line distance between two vectors.\n",
        "3.   Manhattan Distance: Measures the sum of absolute differences between vectors.\n",
        "4.   Minkowski Distance: Generalization of Euclidean and Manhattan distances.\n",
        "5. Dot Product: Measures similarity without normalization (e.g., for unnormalized vectors).\n",
        "6. Jaccard Similarity: Used for binary data or sets.\n",
        "7. Pearson Correlation: Measures linear relationship between vectors."
      ],
      "metadata": {
        "id": "Jjvae5JRCIhP"
      }
    },
    {
      "cell_type": "code",
      "source": [],
      "metadata": {
        "id": "72k6KojNB89N"
      },
      "execution_count": 47,
      "outputs": []
    }
  ]
}