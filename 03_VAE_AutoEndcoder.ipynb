{
  "nbformat": 4,
  "nbformat_minor": 0,
  "metadata": {
    "colab": {
      "provenance": [],
      "gpuType": "T4",
      "authorship_tag": "ABX9TyN05eZ9YNkptPxu0nOgFJ5W",
      "include_colab_link": true
    },
    "kernelspec": {
      "name": "python3",
      "display_name": "Python 3"
    },
    "language_info": {
      "name": "python"
    },
    "accelerator": "GPU"
  },
  "cells": [
    {
      "cell_type": "markdown",
      "metadata": {
        "id": "view-in-github",
        "colab_type": "text"
      },
      "source": [
        "<a href=\"https://colab.research.google.com/github/runtorain/GenerativeDeepLearning/blob/main/03_VAE_AutoEndcoder.ipynb\" target=\"_parent\"><img src=\"https://colab.research.google.com/assets/colab-badge.svg\" alt=\"Open In Colab\"/></a>"
      ]
    },
    {
      "cell_type": "code",
      "source": [
        "!pip install torchinfo"
      ],
      "metadata": {
        "colab": {
          "base_uri": "https://localhost:8080/"
        },
        "id": "4Dqs7W0g2rdX",
        "outputId": "331138b7-dceb-460d-cd7b-213d4af49dc1"
      },
      "execution_count": 18,
      "outputs": [
        {
          "output_type": "stream",
          "name": "stdout",
          "text": [
            "Requirement already satisfied: torchinfo in /usr/local/lib/python3.10/dist-packages (1.8.0)\n"
          ]
        }
      ]
    },
    {
      "cell_type": "code",
      "source": [
        "import torch\n",
        "import torch.nn as nn\n",
        "import torch.optim as optim\n",
        "from torchvision import datasets, transforms\n",
        "from torch.utils.data import DataLoader\n",
        "import matplotlib.pyplot as plt\n",
        "import numpy as np"
      ],
      "metadata": {
        "id": "sPfTwpFKzRli"
      },
      "execution_count": 19,
      "outputs": []
    },
    {
      "cell_type": "code",
      "source": [
        "# Parameters\n",
        "IMAGE_SIZE = 32\n",
        "CHANNELS = 1\n",
        "BATCH_SIZE = 100\n",
        "EMBEDDING_DIM = 2\n",
        "EPOCHS = 20"
      ],
      "metadata": {
        "id": "AZRXBoBHzd42"
      },
      "execution_count": 20,
      "outputs": []
    },
    {
      "cell_type": "code",
      "source": [
        "# Data Preparation\n",
        "transform = transforms.Compose([\n",
        "    transforms.Pad(2),\n",
        "    transforms.ToTensor(),\n",
        "])"
      ],
      "metadata": {
        "id": "Wzi_ilILzjBf"
      },
      "execution_count": 21,
      "outputs": []
    },
    {
      "cell_type": "code",
      "source": [
        "train_dataset = datasets.FashionMNIST(root=\"./data\", train=True, download=True, transform=transform)\n",
        "test_dataset = datasets.FashionMNIST(root=\"./data\", train=False, download=True, transform=transform)\n",
        "\n",
        "train_loader = DataLoader(train_dataset, batch_size=BATCH_SIZE, shuffle=True)\n",
        "test_loader = DataLoader(test_dataset, batch_size=BATCH_SIZE, shuffle=False)"
      ],
      "metadata": {
        "id": "wakJSB13zpV-"
      },
      "execution_count": 22,
      "outputs": []
    },
    {
      "cell_type": "code",
      "source": [
        "print(train_dataset[0])"
      ],
      "metadata": {
        "colab": {
          "base_uri": "https://localhost:8080/"
        },
        "id": "GCF04bA2z9bO",
        "outputId": "f5dd16bf-d510-4c39-83b8-9059d0f74880"
      },
      "execution_count": 23,
      "outputs": [
        {
          "output_type": "stream",
          "name": "stdout",
          "text": [
            "(tensor([[[0., 0., 0.,  ..., 0., 0., 0.],\n",
            "         [0., 0., 0.,  ..., 0., 0., 0.],\n",
            "         [0., 0., 0.,  ..., 0., 0., 0.],\n",
            "         ...,\n",
            "         [0., 0., 0.,  ..., 0., 0., 0.],\n",
            "         [0., 0., 0.,  ..., 0., 0., 0.],\n",
            "         [0., 0., 0.,  ..., 0., 0., 0.]]]), 9)\n"
          ]
        }
      ]
    },
    {
      "cell_type": "code",
      "source": [
        "train_dataset[0][0].shape"
      ],
      "metadata": {
        "colab": {
          "base_uri": "https://localhost:8080/"
        },
        "id": "8P19tBDQ0GGl",
        "outputId": "2a21ebe2-fba0-44ac-fe42-42cecd4b5624"
      },
      "execution_count": 24,
      "outputs": [
        {
          "output_type": "execute_result",
          "data": {
            "text/plain": [
              "torch.Size([1, 32, 32])"
            ]
          },
          "metadata": {},
          "execution_count": 24
        }
      ]
    },
    {
      "cell_type": "code",
      "source": [
        "sample_train_dataset = datasets.FashionMNIST(root=\"./data\", train=True)"
      ],
      "metadata": {
        "id": "pX-M5pq601Kf"
      },
      "execution_count": 25,
      "outputs": []
    },
    {
      "cell_type": "code",
      "source": [
        "sample_train_dataset[0]"
      ],
      "metadata": {
        "colab": {
          "base_uri": "https://localhost:8080/"
        },
        "id": "xdL1n2NE09oG",
        "outputId": "b0611073-6e74-4bb1-a0e2-703e2a876d9d"
      },
      "execution_count": 26,
      "outputs": [
        {
          "output_type": "execute_result",
          "data": {
            "text/plain": [
              "(<PIL.Image.Image image mode=L size=28x28>, 9)"
            ]
          },
          "metadata": {},
          "execution_count": 26
        }
      ]
    },
    {
      "cell_type": "code",
      "source": [
        "sample_train_dataset[0][0]"
      ],
      "metadata": {
        "colab": {
          "base_uri": "https://localhost:8080/",
          "height": 45
        },
        "id": "l4hxwlvL1CgG",
        "outputId": "4e13d20c-055d-432e-f7ff-c97de80d0ed9"
      },
      "execution_count": 27,
      "outputs": [
        {
          "output_type": "execute_result",
          "data": {
            "text/plain": [
              "<PIL.Image.Image image mode=L size=28x28>"
            ],
            "image/png": "[encoded data removed]",
            "image/jpeg": "[encoded data removed]"
          },
          "metadata": {},
          "execution_count": 27
        }
      ]
    },
    {
      "cell_type": "code",
      "source": [
        "from torchvision.transforms import ToTensor\n",
        "\n",
        "# Example PIL image from the dataset\n",
        "image, label = sample_train_dataset[0]\n",
        "\n",
        "# Convert to PyTorch tensor\n",
        "tensor_image = ToTensor()(image)\n",
        "\n",
        "print(tensor_image.shape)  # Output: torch.Size([1, 28, 28])\n",
        "print(tensor_image)"
      ],
      "metadata": {
        "colab": {
          "base_uri": "https://localhost:8080/"
        },
        "id": "VCbLya3s1hCW",
        "outputId": "6936db37-bd4c-4d40-9f8e-df436f99fa83"
      },
      "execution_count": 28,
      "outputs": [
        {
          "output_type": "stream",
          "name": "stdout",
          "text": [
            "torch.Size([1, 28, 28])\n",
            "tensor([[[0.0000, 0.0000, 0.0000, 0.0000, 0.0000, 0.0000, 0.0000, 0.0000,\n",
            "          0.0000, 0.0000, 0.0000, 0.0000, 0.0000, 0.0000, 0.0000, 0.0000,\n",
            "          0.0000, 0.0000, 0.0000, 0.0000, 0.0000, 0.0000, 0.0000, 0.0000,\n",
            "          0.0000, 0.0000, 0.0000, 0.0000],\n",
            "         [0.0000, 0.0000, 0.0000, 0.0000, 0.0000, 0.0000, 0.0000, 0.0000,\n",
            "          0.0000, 0.0000, 0.0000, 0.0000, 0.0000, 0.0000, 0.0000, 0.0000,\n",
            "          0.0000, 0.0000, 0.0000, 0.0000, 0.0000, 0.0000, 0.0000, 0.0000,\n",
            "          0.0000, 0.0000, 0.0000, 0.0000],\n",
            "         [0.0000, 0.0000, 0.0000, 0.0000, 0.0000, 0.0000, 0.0000, 0.0000,\n",
            "          0.0000, 0.0000, 0.0000, 0.0000, 0.0000, 0.0000, 0.0000, 0.0000,\n",
            "          0.0000, 0.0000, 0.0000, 0.0000, 0.0000, 0.0000, 0.0000, 0.0000,\n",
            "          0.0000, 0.0000, 0.0000, 0.0000],\n",
            "         [0.0000, 0.0000, 0.0000, 0.0000, 0.0000, 0.0000, 0.0000, 0.0000,\n",
            "          0.0000, 0.0000, 0.0000, 0.0000, 0.0039, 0.0000, 0.0000, 0.0510,\n",
            "          0.2863, 0.0000, 0.0000, 0.0039, 0.0157, 0.0000, 0.0000, 0.0000,\n",
            "          0.0000, 0.0039, 0.0039, 0.0000],\n",
            "         [0.0000, 0.0000, 0.0000, 0.0000, 0.0000, 0.0000, 0.0000, 0.0000,\n",
            "          0.0000, 0.0000, 0.0000, 0.0000, 0.0118, 0.0000, 0.1412, 0.5333,\n",
            "          0.4980, 0.2431, 0.2118, 0.0000, 0.0000, 0.0000, 0.0039, 0.0118,\n",
            "          0.0157, 0.0000, 0.0000, 0.0118],\n",
            "         [0.0000, 0.0000, 0.0000, 0.0000, 0.0000, 0.0000, 0.0000, 0.0000,\n",
            "          0.0000, 0.0000, 0.0000, 0.0000, 0.0235, 0.0000, 0.4000, 0.8000,\n",
            "          0.6902, 0.5255, 0.5647, 0.4824, 0.0902, 0.0000, 0.0000, 0.0000,\n",
            "          0.0000, 0.0471, 0.0392, 0.0000],\n",
            "         [0.0000, 0.0000, 0.0000, 0.0000, 0.0000, 0.0000, 0.0000, 0.0000,\n",
            "          0.0000, 0.0000, 0.0000, 0.0000, 0.0000, 0.0000, 0.6078, 0.9255,\n",
            "          0.8118, 0.6980, 0.4196, 0.6118, 0.6314, 0.4275, 0.2510, 0.0902,\n",
            "          0.3020, 0.5098, 0.2824, 0.0588],\n",
            "         [0.0000, 0.0000, 0.0000, 0.0000, 0.0000, 0.0000, 0.0000, 0.0000,\n",
            "          0.0000, 0.0000, 0.0000, 0.0039, 0.0000, 0.2706, 0.8118, 0.8745,\n",
            "          0.8549, 0.8471, 0.8471, 0.6392, 0.4980, 0.4745, 0.4784, 0.5725,\n",
            "          0.5529, 0.3451, 0.6745, 0.2588],\n",
            "         [0.0000, 0.0000, 0.0000, 0.0000, 0.0000, 0.0000, 0.0000, 0.0000,\n",
            "          0.0000, 0.0039, 0.0039, 0.0039, 0.0000, 0.7843, 0.9098, 0.9098,\n",
            "          0.9137, 0.8980, 0.8745, 0.8745, 0.8431, 0.8353, 0.6431, 0.4980,\n",
            "          0.4824, 0.7686, 0.8980, 0.0000],\n",
            "         [0.0000, 0.0000, 0.0000, 0.0000, 0.0000, 0.0000, 0.0000, 0.0000,\n",
            "          0.0000, 0.0000, 0.0000, 0.0000, 0.0000, 0.7176, 0.8824, 0.8471,\n",
            "          0.8745, 0.8941, 0.9216, 0.8902, 0.8784, 0.8706, 0.8784, 0.8667,\n",
            "          0.8745, 0.9608, 0.6784, 0.0000],\n",
            "         [0.0000, 0.0000, 0.0000, 0.0000, 0.0000, 0.0000, 0.0000, 0.0000,\n",
            "          0.0000, 0.0000, 0.0000, 0.0000, 0.0000, 0.7569, 0.8941, 0.8549,\n",
            "          0.8353, 0.7765, 0.7059, 0.8314, 0.8235, 0.8275, 0.8353, 0.8745,\n",
            "          0.8627, 0.9529, 0.7922, 0.0000],\n",
            "         [0.0000, 0.0000, 0.0000, 0.0000, 0.0000, 0.0000, 0.0000, 0.0000,\n",
            "          0.0000, 0.0039, 0.0118, 0.0000, 0.0471, 0.8588, 0.8627, 0.8314,\n",
            "          0.8549, 0.7529, 0.6627, 0.8902, 0.8157, 0.8549, 0.8784, 0.8314,\n",
            "          0.8863, 0.7725, 0.8196, 0.2039],\n",
            "         [0.0000, 0.0000, 0.0000, 0.0000, 0.0000, 0.0000, 0.0000, 0.0000,\n",
            "          0.0000, 0.0000, 0.0235, 0.0000, 0.3882, 0.9569, 0.8706, 0.8627,\n",
            "          0.8549, 0.7961, 0.7765, 0.8667, 0.8431, 0.8353, 0.8706, 0.8627,\n",
            "          0.9608, 0.4667, 0.6549, 0.2196],\n",
            "         [0.0000, 0.0000, 0.0000, 0.0000, 0.0000, 0.0000, 0.0000, 0.0000,\n",
            "          0.0000, 0.0157, 0.0000, 0.0000, 0.2157, 0.9255, 0.8941, 0.9020,\n",
            "          0.8941, 0.9412, 0.9098, 0.8353, 0.8549, 0.8745, 0.9176, 0.8510,\n",
            "          0.8510, 0.8196, 0.3608, 0.0000],\n",
            "         [0.0000, 0.0000, 0.0039, 0.0157, 0.0235, 0.0275, 0.0078, 0.0000,\n",
            "          0.0000, 0.0000, 0.0000, 0.0000, 0.9294, 0.8863, 0.8510, 0.8745,\n",
            "          0.8706, 0.8588, 0.8706, 0.8667, 0.8471, 0.8745, 0.8980, 0.8431,\n",
            "          0.8549, 1.0000, 0.3020, 0.0000],\n",
            "         [0.0000, 0.0118, 0.0000, 0.0000, 0.0000, 0.0000, 0.0000, 0.0000,\n",
            "          0.0000, 0.2431, 0.5686, 0.8000, 0.8941, 0.8118, 0.8353, 0.8667,\n",
            "          0.8549, 0.8157, 0.8275, 0.8549, 0.8784, 0.8745, 0.8588, 0.8431,\n",
            "          0.8784, 0.9569, 0.6235, 0.0000],\n",
            "         [0.0000, 0.0000, 0.0000, 0.0000, 0.0706, 0.1725, 0.3216, 0.4196,\n",
            "          0.7412, 0.8941, 0.8627, 0.8706, 0.8510, 0.8863, 0.7843, 0.8039,\n",
            "          0.8275, 0.9020, 0.8784, 0.9176, 0.6902, 0.7373, 0.9804, 0.9725,\n",
            "          0.9137, 0.9333, 0.8431, 0.0000],\n",
            "         [0.0000, 0.2235, 0.7333, 0.8157, 0.8784, 0.8667, 0.8784, 0.8157,\n",
            "          0.8000, 0.8392, 0.8157, 0.8196, 0.7843, 0.6235, 0.9608, 0.7569,\n",
            "          0.8078, 0.8745, 1.0000, 1.0000, 0.8667, 0.9176, 0.8667, 0.8275,\n",
            "          0.8627, 0.9098, 0.9647, 0.0000],\n",
            "         [0.0118, 0.7922, 0.8941, 0.8784, 0.8667, 0.8275, 0.8275, 0.8392,\n",
            "          0.8039, 0.8039, 0.8039, 0.8627, 0.9412, 0.3137, 0.5882, 1.0000,\n",
            "          0.8980, 0.8667, 0.7373, 0.6039, 0.7490, 0.8235, 0.8000, 0.8196,\n",
            "          0.8706, 0.8941, 0.8824, 0.0000],\n",
            "         [0.3843, 0.9137, 0.7765, 0.8235, 0.8706, 0.8980, 0.8980, 0.9176,\n",
            "          0.9765, 0.8627, 0.7608, 0.8431, 0.8510, 0.9451, 0.2549, 0.2863,\n",
            "          0.4157, 0.4588, 0.6588, 0.8588, 0.8667, 0.8431, 0.8510, 0.8745,\n",
            "          0.8745, 0.8784, 0.8980, 0.1137],\n",
            "         [0.2941, 0.8000, 0.8314, 0.8000, 0.7569, 0.8039, 0.8275, 0.8824,\n",
            "          0.8471, 0.7255, 0.7725, 0.8078, 0.7765, 0.8353, 0.9412, 0.7647,\n",
            "          0.8902, 0.9608, 0.9373, 0.8745, 0.8549, 0.8314, 0.8196, 0.8706,\n",
            "          0.8627, 0.8667, 0.9020, 0.2627],\n",
            "         [0.1882, 0.7961, 0.7176, 0.7608, 0.8353, 0.7725, 0.7255, 0.7451,\n",
            "          0.7608, 0.7529, 0.7922, 0.8392, 0.8588, 0.8667, 0.8627, 0.9255,\n",
            "          0.8824, 0.8471, 0.7804, 0.8078, 0.7294, 0.7098, 0.6941, 0.6745,\n",
            "          0.7098, 0.8039, 0.8078, 0.4510],\n",
            "         [0.0000, 0.4784, 0.8588, 0.7569, 0.7020, 0.6706, 0.7176, 0.7686,\n",
            "          0.8000, 0.8235, 0.8353, 0.8118, 0.8275, 0.8235, 0.7843, 0.7686,\n",
            "          0.7608, 0.7490, 0.7647, 0.7490, 0.7765, 0.7529, 0.6902, 0.6118,\n",
            "          0.6549, 0.6941, 0.8235, 0.3608],\n",
            "         [0.0000, 0.0000, 0.2902, 0.7412, 0.8314, 0.7490, 0.6863, 0.6745,\n",
            "          0.6863, 0.7098, 0.7255, 0.7373, 0.7412, 0.7373, 0.7569, 0.7765,\n",
            "          0.8000, 0.8196, 0.8235, 0.8235, 0.8275, 0.7373, 0.7373, 0.7608,\n",
            "          0.7529, 0.8471, 0.6667, 0.0000],\n",
            "         [0.0078, 0.0000, 0.0000, 0.0000, 0.2588, 0.7843, 0.8706, 0.9294,\n",
            "          0.9373, 0.9490, 0.9647, 0.9529, 0.9569, 0.8667, 0.8627, 0.7569,\n",
            "          0.7490, 0.7020, 0.7137, 0.7137, 0.7098, 0.6902, 0.6510, 0.6588,\n",
            "          0.3882, 0.2275, 0.0000, 0.0000],\n",
            "         [0.0000, 0.0000, 0.0000, 0.0000, 0.0000, 0.0000, 0.0000, 0.1569,\n",
            "          0.2392, 0.1725, 0.2824, 0.1608, 0.1373, 0.0000, 0.0000, 0.0000,\n",
            "          0.0000, 0.0000, 0.0000, 0.0000, 0.0000, 0.0000, 0.0000, 0.0000,\n",
            "          0.0000, 0.0000, 0.0000, 0.0000],\n",
            "         [0.0000, 0.0000, 0.0000, 0.0000, 0.0000, 0.0000, 0.0000, 0.0000,\n",
            "          0.0000, 0.0000, 0.0000, 0.0000, 0.0000, 0.0000, 0.0000, 0.0000,\n",
            "          0.0000, 0.0000, 0.0000, 0.0000, 0.0000, 0.0000, 0.0000, 0.0000,\n",
            "          0.0000, 0.0000, 0.0000, 0.0000],\n",
            "         [0.0000, 0.0000, 0.0000, 0.0000, 0.0000, 0.0000, 0.0000, 0.0000,\n",
            "          0.0000, 0.0000, 0.0000, 0.0000, 0.0000, 0.0000, 0.0000, 0.0000,\n",
            "          0.0000, 0.0000, 0.0000, 0.0000, 0.0000, 0.0000, 0.0000, 0.0000,\n",
            "          0.0000, 0.0000, 0.0000, 0.0000]]])\n"
          ]
        }
      ]
    },
    {
      "cell_type": "code",
      "source": [
        "# Define the Autoencoder\n",
        "class Autoencoder(nn.Module):\n",
        "    def __init__(self):\n",
        "        super(Autoencoder, self).__init__()\n",
        "\n",
        "        # Encoder\n",
        "        self.encoder = nn.Sequential(\n",
        "            nn.Conv2d(CHANNELS, 32, kernel_size=3, stride=2, padding=1),\n",
        "            nn.ReLU(),\n",
        "            nn.Conv2d(32, 64, kernel_size=3, stride=2, padding=1),\n",
        "            nn.ReLU(),\n",
        "            nn.Conv2d(64, 128, kernel_size=3, stride=2, padding=1),\n",
        "            nn.ReLU(),\n",
        "        )\n",
        "\n",
        "        self.flatten = nn.Flatten()\n",
        "        self.fc_encode = nn.Linear(128 * 4 * 4, EMBEDDING_DIM)\n",
        "\n",
        "        # Decoder\n",
        "        self.fc_decode = nn.Linear(EMBEDDING_DIM, 128 * 4 * 4)\n",
        "        self.unflatten = nn.Unflatten(1, (128, 4, 4))\n",
        "\n",
        "        self.decoder = nn.Sequential(\n",
        "            nn.ConvTranspose2d(128, 64, kernel_size=3, stride=2, padding=1, output_padding=1),\n",
        "            nn.ReLU(),\n",
        "            nn.ConvTranspose2d(64, 32, kernel_size=3, stride=2, padding=1, output_padding=1),\n",
        "            nn.ReLU(),\n",
        "            nn.ConvTranspose2d(32, CHANNELS, kernel_size=3, stride=2, padding=1, output_padding=1),\n",
        "            nn.Sigmoid(),\n",
        "        )\n",
        "\n",
        "    def forward(self, x):\n",
        "        x = self.encoder(x)\n",
        "        x = self.flatten(x)\n",
        "        z = self.fc_encode(x)\n",
        "        x = self.fc_decode(z)\n",
        "        x = self.unflatten(x)\n",
        "        x = self.decoder(x)\n",
        "        return x, z"
      ],
      "metadata": {
        "id": "W2FMDDLH0Qdh"
      },
      "execution_count": 34,
      "outputs": []
    },
    {
      "cell_type": "code",
      "source": [
        "# Model Initialization\n",
        "device = torch.device(\"cuda\" if torch.cuda.is_available() else \"cpu\")\n",
        "model = Autoencoder().to(device)\n",
        "criterion = nn.BCELoss()\n",
        "optimizer = optim.Adam(model.parameters(), lr=1e-3)"
      ],
      "metadata": {
        "id": "bXQhAJpX2DuX"
      },
      "execution_count": 35,
      "outputs": []
    },
    {
      "cell_type": "code",
      "source": [
        "from torchinfo import summary\n",
        "\n",
        "# Print model summary\n",
        "summary(model, input_size=(BATCH_SIZE, CHANNELS, IMAGE_SIZE, IMAGE_SIZE))"
      ],
      "metadata": {
        "colab": {
          "base_uri": "https://localhost:8080/"
        },
        "id": "3x2FiBWE2dFQ",
        "outputId": "e3a359d6-9854-4800-f21d-3967188e3c30"
      },
      "execution_count": 36,
      "outputs": [
        {
          "output_type": "execute_result",
          "data": {
            "text/plain": [
              "==========================================================================================\n",
              "Layer (type:depth-idx)                   Output Shape              Param #\n",
              "==========================================================================================\n",
              "Autoencoder                              [100, 1, 32, 32]          --\n",
              "├─Sequential: 1-1                        [100, 128, 4, 4]          --\n",
              "│    └─Conv2d: 2-1                       [100, 32, 16, 16]         320\n",
              "│    └─ReLU: 2-2                         [100, 32, 16, 16]         --\n",
              "│    └─Conv2d: 2-3                       [100, 64, 8, 8]           18,496\n",
              "│    └─ReLU: 2-4                         [100, 64, 8, 8]           --\n",
              "│    └─Conv2d: 2-5                       [100, 128, 4, 4]          73,856\n",
              "│    └─ReLU: 2-6                         [100, 128, 4, 4]          --\n",
              "├─Flatten: 1-2                           [100, 2048]               --\n",
              "├─Linear: 1-3                            [100, 2]                  4,098\n",
              "├─Linear: 1-4                            [100, 2048]               6,144\n",
              "├─Unflatten: 1-5                         [100, 128, 4, 4]          --\n",
              "├─Sequential: 1-6                        [100, 1, 32, 32]          --\n",
              "│    └─ConvTranspose2d: 2-7              [100, 64, 8, 8]           73,792\n",
              "│    └─ReLU: 2-8                         [100, 64, 8, 8]           --\n",
              "│    └─ConvTranspose2d: 2-9              [100, 32, 16, 16]         18,464\n",
              "│    └─ReLU: 2-10                        [100, 32, 16, 16]         --\n",
              "│    └─ConvTranspose2d: 2-11             [100, 1, 32, 32]          289\n",
              "│    └─Sigmoid: 2-12                     [100, 1, 32, 32]          --\n",
              "==========================================================================================\n",
              "Total params: 195,459\n",
              "Trainable params: 195,459\n",
              "Non-trainable params: 0\n",
              "Total mult-adds (G): 1.22\n",
              "==========================================================================================\n",
              "Input size (MB): 0.41\n",
              "Forward/backward pass size (MB): 23.76\n",
              "Params size (MB): 0.78\n",
              "Estimated Total Size (MB): 24.95\n",
              "=========================================================================================="
            ]
          },
          "metadata": {},
          "execution_count": 36
        }
      ]
    },
    {
      "cell_type": "code",
      "source": [
        "import time\n",
        "\n",
        "def train_model():\n",
        "    model.train()\n",
        "    for epoch in range(EPOCHS):\n",
        "        total_loss = 0\n",
        "        start_time = time.time()  # Record the start time\n",
        "\n",
        "        for images, _ in train_loader:\n",
        "            images = images.to(device)\n",
        "\n",
        "            # Forward pass\n",
        "            reconstructed, _ = model(images)\n",
        "            loss = criterion(reconstructed, images)\n",
        "\n",
        "            # Backward pass\n",
        "            optimizer.zero_grad()\n",
        "            loss.backward()\n",
        "            optimizer.step()\n",
        "\n",
        "            total_loss += loss.item()\n",
        "\n",
        "        # Calculate epoch duration\n",
        "        end_time = time.time()\n",
        "        epoch_duration = end_time - start_time\n",
        "\n",
        "        print(f\"Epoch {epoch + 1}/{EPOCHS}, Loss: {total_loss / len(train_loader):.4f}, Time: {epoch_duration:.2f} seconds\")\n",
        "\n",
        "def evaluate_model(loader):\n",
        "    model.eval()\n",
        "    with torch.no_grad():\n",
        "        for images, labels in loader:\n",
        "            images = images.to(device)\n",
        "            reconstructed, embeddings = model(images)\n",
        "            return images.cpu(), reconstructed.cpu(), embeddings.cpu()\n"
      ],
      "metadata": {
        "id": "B9tbRhXG3FRp"
      },
      "execution_count": 37,
      "outputs": []
    },
    {
      "cell_type": "code",
      "source": [
        "# Train the model\n",
        "train_model()"
      ],
      "metadata": {
        "colab": {
          "base_uri": "https://localhost:8080/"
        },
        "id": "qNgVmNUj3KgP",
        "outputId": "3188666c-f986-4943-d462-295c6b59cf77"
      },
      "execution_count": 38,
      "outputs": [
        {
          "output_type": "stream",
          "name": "stdout",
          "text": [
            "Epoch 1/20, Loss: 0.2948, Time: 12.69 seconds\n",
            "Epoch 2/20, Loss: 0.2621, Time: 12.35 seconds\n",
            "Epoch 3/20, Loss: 0.2576, Time: 12.38 seconds\n",
            "Epoch 4/20, Loss: 0.2551, Time: 12.39 seconds\n",
            "Epoch 5/20, Loss: 0.2534, Time: 17.43 seconds\n",
            "Epoch 6/20, Loss: 0.2524, Time: 12.04 seconds\n",
            "Epoch 7/20, Loss: 0.2514, Time: 12.24 seconds\n",
            "Epoch 8/20, Loss: 0.2505, Time: 12.29 seconds\n",
            "Epoch 9/20, Loss: 0.2499, Time: 11.98 seconds\n",
            "Epoch 10/20, Loss: 0.2493, Time: 12.94 seconds\n",
            "Epoch 11/20, Loss: 0.2490, Time: 12.11 seconds\n",
            "Epoch 12/20, Loss: 0.2484, Time: 11.96 seconds\n",
            "Epoch 13/20, Loss: 0.2480, Time: 12.52 seconds\n",
            "Epoch 14/20, Loss: 0.2476, Time: 12.77 seconds\n",
            "Epoch 15/20, Loss: 0.2473, Time: 12.35 seconds\n",
            "Epoch 16/20, Loss: 0.2472, Time: 12.09 seconds\n",
            "Epoch 17/20, Loss: 0.2467, Time: 11.91 seconds\n",
            "Epoch 18/20, Loss: 0.2467, Time: 11.89 seconds\n",
            "Epoch 19/20, Loss: 0.2463, Time: 11.96 seconds\n",
            "Epoch 20/20, Loss: 0.2461, Time: 11.90 seconds\n"
          ]
        }
      ]
    },
    {
      "cell_type": "code",
      "source": [
        "# Evaluate and Visualize\n",
        "example_images, reconstructed_images, embeddings = evaluate_model(test_loader)"
      ],
      "metadata": {
        "id": "qvAq7Vy_4KS3"
      },
      "execution_count": 39,
      "outputs": []
    },
    {
      "cell_type": "code",
      "source": [
        "# Visualize Original and Reconstructed Images\n",
        "def display(images, title):\n",
        "    fig, axes = plt.subplots(1, 10, figsize=(15, 4))\n",
        "    for i, ax in enumerate(axes):\n",
        "        ax.imshow(images[i].squeeze(), cmap=\"gray\")\n",
        "        ax.axis(\"off\")\n",
        "    plt.suptitle(title)\n",
        "    plt.show()\n",
        "\n",
        "display(example_images[:10], \"Original Images\")\n",
        "display(reconstructed_images[:10], \"Reconstructed Images\")"
      ],
      "metadata": {
        "colab": {
          "base_uri": "https://localhost:8080/",
          "height": 543
        },
        "id": "y_2tq_be4Ncd",
        "outputId": "8eb8e23a-fed3-412f-f136-02b9d6277ce5"
      },
      "execution_count": 40,
      "outputs": [
        {
          "output_type": "display_data",
          "data": {
            "text/plain": [
              "<Figure size 1500x400 with 10 Axes>"
            ],
            "image/png": "[encoded data removed]"
          },
          "metadata": {}
        },
        {
          "output_type": "display_data",
          "data": {
            "text/plain": [
              "<Figure size 1500x400 with 10 Axes>"
            ],
            "image/png": "[encoded data removed]"
          },
          "metadata": {}
        }
      ]
    },
    {
      "cell_type": "code",
      "execution_count": 41,
      "metadata": {
        "colab": {
          "base_uri": "https://localhost:8080/",
          "height": 699
        },
        "id": "XPT1Oexiyb31",
        "outputId": "44641cba-36ef-4e5a-e617-3adc62ee9ad3"
      },
      "outputs": [
        {
          "output_type": "display_data",
          "data": {
            "text/plain": [
              "<Figure size 800x800 with 2 Axes>"
            ],
            "image/png": "[encoded data removed]"
          },
          "metadata": {}
        }
      ],
      "source": [
        "# Visualize Embeddings\n",
        "plt.figure(figsize=(8, 8))\n",
        "plt.scatter(embeddings[:, 0], embeddings[:, 1], c=train_dataset.targets[:len(embeddings)], cmap=\"rainbow\", s=3, alpha=0.8)\n",
        "plt.colorbar()\n",
        "plt.title(\"Latent Space Embeddings\")\n",
        "plt.show()\n"
      ]
    },
    {
      "cell_type": "code",
      "source": [
        "import matplotlib.pyplot as plt\n",
        "import torchvision.transforms as transforms\n",
        "from PIL import Image\n",
        "\n",
        "# Get the dataset from the DataLoader\n",
        "dataset = train_loader.dataset\n",
        "\n",
        "# Specify which image you want\n",
        "image_index = 10  # Index of the desired image in the dataset\n",
        "image, label = dataset[image_index]  # Access the image and its label\n"
      ],
      "metadata": {
        "id": "zcFg8d8Q5x7W"
      },
      "execution_count": 42,
      "outputs": []
    },
    {
      "cell_type": "code",
      "source": [
        "label"
      ],
      "metadata": {
        "colab": {
          "base_uri": "https://localhost:8080/"
        },
        "id": "F5-3i4Il65PH",
        "outputId": "34a5427f-20bc-489a-ba72-5f9a9e819dcd"
      },
      "execution_count": 43,
      "outputs": [
        {
          "output_type": "execute_result",
          "data": {
            "text/plain": [
              "0"
            ]
          },
          "metadata": {},
          "execution_count": 43
        }
      ]
    },
    {
      "cell_type": "code",
      "source": [
        "image"
      ],
      "metadata": {
        "colab": {
          "base_uri": "https://localhost:8080/"
        },
        "id": "XZh6Q2OS68-d",
        "outputId": "6d410e61-6bdd-48a3-b665-46e48537a219"
      },
      "execution_count": 44,
      "outputs": [
        {
          "output_type": "execute_result",
          "data": {
            "text/plain": [
              "tensor([[[0., 0., 0.,  ..., 0., 0., 0.],\n",
              "         [0., 0., 0.,  ..., 0., 0., 0.],\n",
              "         [0., 0., 0.,  ..., 0., 0., 0.],\n",
              "         ...,\n",
              "         [0., 0., 0.,  ..., 0., 0., 0.],\n",
              "         [0., 0., 0.,  ..., 0., 0., 0.],\n",
              "         [0., 0., 0.,  ..., 0., 0., 0.]]])"
            ]
          },
          "metadata": {},
          "execution_count": 44
        }
      ]
    },
    {
      "cell_type": "code",
      "source": [
        "# Convert the tensor to a PIL image (undo normalization if necessary)\n",
        "to_pil = transforms.ToPILImage()\n",
        "pil_image = to_pil(image)\n",
        "\n",
        "# Display the image\n",
        "plt.imshow(pil_image, cmap=\"gray\")\n",
        "plt.title(f\"Label: {label}\")\n",
        "plt.axis(\"off\")\n",
        "plt.show()\n"
      ],
      "metadata": {
        "colab": {
          "base_uri": "https://localhost:8080/",
          "height": 428
        },
        "id": "HFl7yZgR6-jA",
        "outputId": "df9f4dfc-08ff-4ee1-a6bc-4549c74a433b"
      },
      "execution_count": 45,
      "outputs": [
        {
          "output_type": "display_data",
          "data": {
            "text/plain": [
              "<Figure size 640x480 with 1 Axes>"
            ],
            "image/png": "[encoded data removed]"
          },
          "metadata": {}
        }
      ]
    },
    {
      "cell_type": "code",
      "source": [
        "# Save the image to a file\n",
        "pil_image.save(f\"image_{image_index}_label_{label}.png\")\n",
        "print(f\"Image saved as image_{image_index}_label_{label}.png\")"
      ],
      "metadata": {
        "colab": {
          "base_uri": "https://localhost:8080/"
        },
        "id": "De2c5L2X7N5O",
        "outputId": "a622bc79-0a6e-4c71-d739-ea2290b42fc4"
      },
      "execution_count": 46,
      "outputs": [
        {
          "output_type": "stream",
          "name": "stdout",
          "text": [
            "Image saved as image_10_label_0.png\n"
          ]
        }
      ]
    },
    {
      "cell_type": "code",
      "source": [
        "for batch_idx, (images, labels) in enumerate(train_loader):\n",
        "    specific_image = images[5]  # Select the 5th image in this batch\n",
        "    specific_label = labels[5]  # Get the corresponding label\n",
        "    break  # Exit after extracting the first batch\n",
        "\n",
        "# Convert to a PIL image\n",
        "pil_image = to_pil(specific_image)\n",
        "\n",
        "# Display and save\n",
        "plt.imshow(pil_image, cmap=\"gray\")\n",
        "plt.title(f\"Label: {specific_label}\")\n",
        "plt.axis(\"off\")\n",
        "plt.show()\n",
        "\n",
        "# Save the image\n",
        "pil_image.save(f\"specific_image_label_{specific_label}.png\")\n"
      ],
      "metadata": {
        "colab": {
          "base_uri": "https://localhost:8080/",
          "height": 428
        },
        "id": "gGPUZ01k7UJf",
        "outputId": "513be485-378b-4e78-e23e-f5a5af9b9adc"
      },
      "execution_count": 47,
      "outputs": [
        {
          "output_type": "display_data",
          "data": {
            "text/plain": [
              "<Figure size 640x480 with 1 Axes>"
            ],
            "image/png": "[encoded data removed]"
          },
          "metadata": {}
        }
      ]
    },
    {
      "cell_type": "code",
      "source": [
        "train_dataset[0]"
      ],
      "metadata": {
        "colab": {
          "base_uri": "https://localhost:8080/"
        },
        "id": "1d0-QEhs7eEe",
        "outputId": "648f716e-4abc-4aa9-809d-fc4ebb431772"
      },
      "execution_count": 48,
      "outputs": [
        {
          "output_type": "execute_result",
          "data": {
            "text/plain": [
              "(tensor([[[0., 0., 0.,  ..., 0., 0., 0.],\n",
              "          [0., 0., 0.,  ..., 0., 0., 0.],\n",
              "          [0., 0., 0.,  ..., 0., 0., 0.],\n",
              "          ...,\n",
              "          [0., 0., 0.,  ..., 0., 0., 0.],\n",
              "          [0., 0., 0.,  ..., 0., 0., 0.],\n",
              "          [0., 0., 0.,  ..., 0., 0., 0.]]]),\n",
              " 9)"
            ]
          },
          "metadata": {},
          "execution_count": 48
        }
      ]
    },
    {
      "cell_type": "code",
      "source": [
        "# Extract the first image\n",
        "image = train_dataset[0][0]\n",
        "\n",
        "# Prepare the image\n",
        "image_tensor = image.unsqueeze(0).to(device)  # Add batch dimension and send to device\n",
        "\n",
        "# Generate the embedding\n",
        "model.eval()\n",
        "with torch.no_grad():\n",
        "    _,embedding = model(image_tensor)\n",
        "\n",
        "# Print the embedding\n",
        "embedding_np = embedding.cpu().numpy()\n",
        "print(\"Embedding:\", embedding_np)"
      ],
      "metadata": {
        "colab": {
          "base_uri": "https://localhost:8080/"
        },
        "id": "-j0TxxTE8Gkv",
        "outputId": "8dee0c70-b83c-434f-abdd-63250b17cf3a"
      },
      "execution_count": 50,
      "outputs": [
        {
          "output_type": "stream",
          "name": "stdout",
          "text": [
            "Embedding: [[-1.0075694   0.95600724]]\n"
          ]
        }
      ]
    },
    {
      "cell_type": "code",
      "source": [
        "train_dataset"
      ],
      "metadata": {
        "colab": {
          "base_uri": "https://localhost:8080/"
        },
        "id": "6ys8y7JA8WiH",
        "outputId": "45acd80f-afb1-41f7-d7fa-23f29ae01744"
      },
      "execution_count": 52,
      "outputs": [
        {
          "output_type": "execute_result",
          "data": {
            "text/plain": [
              "Dataset FashionMNIST\n",
              "    Number of datapoints: 60000\n",
              "    Root location: ./data\n",
              "    Split: Train\n",
              "    StandardTransform\n",
              "Transform: Compose(\n",
              "               Pad(padding=2, fill=0, padding_mode=constant)\n",
              "               ToTensor()\n",
              "           )"
            ]
          },
          "metadata": {},
          "execution_count": 52
        }
      ]
    },
    {
      "cell_type": "code",
      "source": [
        "for i in range(10):\n",
        "    print(train_dataset[i][1])"
      ],
      "metadata": {
        "colab": {
          "base_uri": "https://localhost:8080/"
        },
        "id": "7BEIrNUK8rU3",
        "outputId": "bfe99577-ef11-4bd7-b9e6-90f582bb6920"
      },
      "execution_count": 62,
      "outputs": [
        {
          "output_type": "stream",
          "name": "stdout",
          "text": [
            "9\n",
            "0\n",
            "0\n",
            "3\n",
            "0\n",
            "2\n",
            "7\n",
            "2\n",
            "5\n",
            "5\n"
          ]
        }
      ]
    },
    {
      "cell_type": "code",
      "source": [
        "def endcoding_reading(image):\n",
        "  # Prepare the image\n",
        "  image_tensor = image.unsqueeze(0).to(device)  # Add batch dimension and send to device\n",
        "\n",
        "  # Generate the embedding\n",
        "  model.eval()\n",
        "  with torch.no_grad():\n",
        "      _,embedding = model(image_tensor)\n",
        "\n",
        "  # Print the embedding\n",
        "  embedding_np = embedding.cpu().numpy()\n",
        "  print(\"Embedding:\", embedding_np)\n",
        "\n",
        "  return embedding_np"
      ],
      "metadata": {
        "id": "gy1ae09J-AsA"
      },
      "execution_count": 66,
      "outputs": []
    },
    {
      "cell_type": "code",
      "source": [
        "endcoding_reading(train_dataset[1][0])"
      ],
      "metadata": {
        "colab": {
          "base_uri": "https://localhost:8080/"
        },
        "id": "SBzr9bTw-7Pm",
        "outputId": "29dcc5f9-a476-4ae2-83d8-50215954c719"
      },
      "execution_count": 64,
      "outputs": [
        {
          "output_type": "stream",
          "name": "stdout",
          "text": [
            "Embedding: [[ 1.6021552 -3.767724 ]]\n"
          ]
        }
      ]
    },
    {
      "cell_type": "code",
      "source": [
        "endcoding_reading(train_dataset[2][0])"
      ],
      "metadata": {
        "colab": {
          "base_uri": "https://localhost:8080/"
        },
        "id": "JzzeksLy_D7Y",
        "outputId": "bdd8b66f-3e86-4fc4-e07f-1cc6e79d303e"
      },
      "execution_count": 65,
      "outputs": [
        {
          "output_type": "stream",
          "name": "stdout",
          "text": [
            "Embedding: [[-0.66035885 -3.393551  ]]\n"
          ]
        }
      ]
    },
    {
      "cell_type": "code",
      "source": [
        "a = endcoding_reading(train_dataset[1][0])\n",
        "b = endcoding_reading(train_dataset[2][0])"
      ],
      "metadata": {
        "colab": {
          "base_uri": "https://localhost:8080/"
        },
        "id": "RpgKFlzk_GKd",
        "outputId": "55915892-822c-4b46-fa4c-938dc348242f"
      },
      "execution_count": 67,
      "outputs": [
        {
          "output_type": "stream",
          "name": "stdout",
          "text": [
            "Embedding: [[ 1.6021552 -3.767724 ]]\n",
            "Embedding: [[-0.66035885 -3.393551  ]]\n"
          ]
        }
      ]
    },
    {
      "cell_type": "code",
      "source": [
        "a,b"
      ],
      "metadata": {
        "colab": {
          "base_uri": "https://localhost:8080/"
        },
        "id": "c_iJ1ve3_hNG",
        "outputId": "cfcd8399-b3ca-48a6-b1b5-b3ba6a9ba3c6"
      },
      "execution_count": 69,
      "outputs": [
        {
          "output_type": "execute_result",
          "data": {
            "text/plain": [
              "(array([[ 1.6021552, -3.767724 ]], dtype=float32),\n",
              " array([[-0.66035885, -3.393551  ]], dtype=float32))"
            ]
          },
          "metadata": {},
          "execution_count": 69
        }
      ]
    },
    {
      "cell_type": "code",
      "source": [
        "# Flatten the arrays to 1D\n",
        "a_flat = a.flatten()\n",
        "b_flat = b.flatten()\n",
        "\n",
        "# Compute cosine similarity\n",
        "cosine_similarity = np.dot(a_flat, b_flat) / (np.linalg.norm(a_flat) * np.linalg.norm(b_flat))\n",
        "\n",
        "print(\"Cosine Similarity:\", cosine_similarity)"
      ],
      "metadata": {
        "colab": {
          "base_uri": "https://localhost:8080/"
        },
        "id": "lfE69cJ-_iom",
        "outputId": "4f333a7c-2aac-4126-b4db-e2c73fec632b"
      },
      "execution_count": 71,
      "outputs": [
        {
          "output_type": "stream",
          "name": "stdout",
          "text": [
            "Cosine Similarity: 0.8285645\n"
          ]
        }
      ]
    },
    {
      "cell_type": "code",
      "source": [
        "a_flat"
      ],
      "metadata": {
        "colab": {
          "base_uri": "https://localhost:8080/"
        },
        "id": "aqApvdpi_2mn",
        "outputId": "18347f31-c649-48fb-8870-9a1bbf7f398f"
      },
      "execution_count": 72,
      "outputs": [
        {
          "output_type": "execute_result",
          "data": {
            "text/plain": [
              "array([ 1.6021552, -3.767724 ], dtype=float32)"
            ]
          },
          "metadata": {},
          "execution_count": 72
        }
      ]
    },
    {
      "cell_type": "code",
      "source": [
        "c = endcoding_reading(train_dataset[0][0])\n",
        "d = endcoding_reading(train_dataset[1][0])"
      ],
      "metadata": {
        "colab": {
          "base_uri": "https://localhost:8080/"
        },
        "id": "bSrc93C3_8jW",
        "outputId": "5d04643a-053c-493f-9c1e-12e2c175632d"
      },
      "execution_count": 73,
      "outputs": [
        {
          "output_type": "stream",
          "name": "stdout",
          "text": [
            "Embedding: [[-1.0075694   0.95600724]]\n",
            "Embedding: [[ 1.6021552 -3.767724 ]]\n"
          ]
        }
      ]
    },
    {
      "cell_type": "code",
      "source": [
        "# Flatten the arrays to 1D\n",
        "c_flat = c.flatten()\n",
        "d_flat = d.flatten()\n",
        "\n",
        "# Compute cosine similarity\n",
        "cosine_similarity = np.dot(c_flat, d_flat) / (np.linalg.norm(c_flat) * np.linalg.norm(d_flat))\n",
        "\n",
        "print(\"Cosine Similarity:\", cosine_similarity)"
      ],
      "metadata": {
        "colab": {
          "base_uri": "https://localhost:8080/"
        },
        "id": "CvlWwpE7AgDX",
        "outputId": "8f71344a-0d72-4a5c-ec3b-e3d0efafcb18"
      },
      "execution_count": 75,
      "outputs": [
        {
          "output_type": "stream",
          "name": "stdout",
          "text": [
            "Cosine Similarity: -0.91728634\n",
            "Cosine Similarity: -0.91728634\n"
          ]
        }
      ]
    },
    {
      "cell_type": "code",
      "source": [
        "e = endcoding_reading(train_dataset[8][0])\n",
        "f = endcoding_reading(train_dataset[9][0])"
      ],
      "metadata": {
        "colab": {
          "base_uri": "https://localhost:8080/"
        },
        "id": "n6_mEhS5AqZf",
        "outputId": "85a69322-df6f-4c09-e452-be4bf41d76fb"
      },
      "execution_count": 76,
      "outputs": [
        {
          "output_type": "stream",
          "name": "stdout",
          "text": [
            "Embedding: [[-1.2088118 -1.6461768]]\n",
            "Embedding: [[-0.93040913 -1.0991799 ]]\n"
          ]
        }
      ]
    },
    {
      "cell_type": "code",
      "source": [
        "# Flatten the arrays to 1D\n",
        "e_flat = e.flatten()\n",
        "f_flat = f.flatten()\n",
        "\n",
        "# Compute cosine similarity\n",
        "cosine_similarity = np.dot(e_flat, f_flat) / (np.linalg.norm(e_flat) * np.linalg.norm(f_flat))\n",
        "\n",
        "print(\"Cosine Similarity:\", cosine_similarity)"
      ],
      "metadata": {
        "colab": {
          "base_uri": "https://localhost:8080/"
        },
        "id": "1hryBJyFBC6o",
        "outputId": "5d90eb52-7656-4f41-cab6-3241b1c9d210"
      },
      "execution_count": 77,
      "outputs": [
        {
          "output_type": "stream",
          "name": "stdout",
          "text": [
            "Cosine Similarity: 0.99761724\n"
          ]
        }
      ]
    },
    {
      "cell_type": "code",
      "source": [
        "#1. Euclidean Distance\n",
        "import numpy as np\n",
        "\n",
        "# Compute Euclidean distance\n",
        "euclidean_distance = np.linalg.norm(e_flat - f_flat)\n",
        "\n",
        "print(\"Euclidean Distance:\", euclidean_distance)\n"
      ],
      "metadata": {
        "colab": {
          "base_uri": "https://localhost:8080/"
        },
        "id": "XidTcT4kBPbQ",
        "outputId": "0428df81-a45b-4c3c-cfef-859c4eb349a1"
      },
      "execution_count": 78,
      "outputs": [
        {
          "output_type": "stream",
          "name": "stdout",
          "text": [
            "Euclidean Distance: 0.61377007\n"
          ]
        }
      ]
    },
    {
      "cell_type": "code",
      "source": [
        "#1. Euclidean Distance\n",
        "import numpy as np\n",
        "\n",
        "# Compute Euclidean distance\n",
        "euclidean_distance = np.linalg.norm(c_flat - d_flat)\n",
        "\n",
        "print(\"Euclidean Distance:\", euclidean_distance)"
      ],
      "metadata": {
        "colab": {
          "base_uri": "https://localhost:8080/"
        },
        "id": "vtvkWE3sBq7m",
        "outputId": "67dfd276-7b81-4fe4-b87c-21fcee2c004b"
      },
      "execution_count": 79,
      "outputs": [
        {
          "output_type": "stream",
          "name": "stdout",
          "text": [
            "Euclidean Distance: 5.396693\n"
          ]
        }
      ]
    },
    {
      "cell_type": "code",
      "source": [
        "#2. Manhattan Distance (L1 Norm)\n",
        "# Compute Manhattan distance (L1 norm)\n",
        "manhattan_distance = np.sum(np.abs(a_flat - b_flat))\n",
        "\n",
        "print(\"Manhattan Distance:\", manhattan_distance)\n"
      ],
      "metadata": {
        "colab": {
          "base_uri": "https://localhost:8080/"
        },
        "id": "WYOIJ_iIBxAe",
        "outputId": "53bfc0eb-7442-4ac5-8e02-5fd3cae5427d"
      },
      "execution_count": 80,
      "outputs": [
        {
          "output_type": "stream",
          "name": "stdout",
          "text": [
            "Manhattan Distance: 2.636687\n"
          ]
        }
      ]
    },
    {
      "cell_type": "markdown",
      "source": [
        "## Summary of Similarity Measures:\n",
        "\n",
        "1.   Cosine Similarity: Measures the angle between two vectors.\n",
        "\n",
        "2. Euclidean Distance: Measures the straight-line distance between two vectors.\n",
        "3.   Manhattan Distance: Measures the sum of absolute differences between vectors.\n",
        "4.   Minkowski Distance: Generalization of Euclidean and Manhattan distances.\n",
        "5. Dot Product: Measures similarity without normalization (e.g., for unnormalized vectors).\n",
        "6. Jaccard Similarity: Used for binary data or sets.\n",
        "7. Pearson Correlation: Measures linear relationship between vectors."
      ],
      "metadata": {
        "id": "Jjvae5JRCIhP"
      }
    },
    {
      "cell_type": "code",
      "source": [],
      "metadata": {
        "id": "72k6KojNB89N"
      },
      "execution_count": null,
      "outputs": []
    }
  ]
}